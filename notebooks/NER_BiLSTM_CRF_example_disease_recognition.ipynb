{
  "nbformat": 4,
  "nbformat_minor": 0,
  "metadata": {
    "colab": {
      "name": "NER-BiLSTM-CRF-example-disease-recognition.ipynb",
      "provenance": [],
      "mount_file_id": "1kVz7FtjCdEEoHwLutzUBndXUYikswSdZ",
      "authorship_tag": "ABX9TyMj3Bzyxpe6fNMPVtVDHTSO",
      "include_colab_link": true
    },
    "kernelspec": {
      "name": "python3",
      "display_name": "Python 3"
    },
    "language_info": {
      "name": "python"
    },
    "accelerator": "GPU"
  },
  "cells": [
    {
      "cell_type": "markdown",
      "metadata": {
        "id": "view-in-github",
        "colab_type": "text"
      },
      "source": [
        "<a href=\"https://colab.research.google.com/github/anyuanay/dsr_n2c2/blob/main/notebooks/NER_BiLSTM_CRF_example_disease_recognition.ipynb\" target=\"_parent\"><img src=\"https://colab.research.google.com/assets/colab-badge.svg\" alt=\"Open In Colab\"/></a>"
      ]
    },
    {
      "cell_type": "markdown",
      "source": [
        "# Named Entity Recognition Using Deep Neural Networks (DNN) and Conditional Random Fields (CRF): \n",
        "## References:\n",
        "1. https://www.nexsoftsys.com/articles/overview-of-named-entity-recognition-using-crf.html : A brief overview using DNN and CRF. We will use its dataset for disease recognition.\n",
        "2. https://utkarsh-kumar2407.medium.com/named-entity-recognition-using-bidirectional-lstm-crf-9f4942746b3c: Includes Python code for NER\n",
        "3. https://medium.com/data-science-in-your-pocket/named-entity-recognition-ner-using-conditional-random-fields-in-nlp-3660df22e95c: Introduction to CRF NER\n",
        "4. Bidirectional LSTM-CRF Models for Sequence Tagging: https://arxiv.org/abs/1508.01991"
      ],
      "metadata": {
        "id": "OkEPliPvw2-V"
      }
    },
    {
      "cell_type": "markdown",
      "source": [
        "## BIO Annotation for NER\n",
        "Tags of entities are encoded in a BIO-annotation scheme. Each entity is labeled with a B or an I to detect multi-word entities, where B denotes the beginning of an entity and I denote the inside of an entity. O denotes all other words which are not named entities."
      ],
      "metadata": {
        "id": "HgOxvEj3_Uk3"
      }
    },
    {
      "cell_type": "markdown",
      "source": [
        "## Download the Data\n",
        "1. Download the data from: https://www.dropbox.com/s/ef5g11fdq7igi74/hackathon_disease_extraction.zip?dl=0\n",
        "2. Extract the data sets into your Google Drive under 'MyDrive/Colab Notebooks/n2c2/'"
      ],
      "metadata": {
        "id": "z8K7ALx5viGf"
      }
    },
    {
      "cell_type": "markdown",
      "source": [
        "## Importing Libraries"
      ],
      "metadata": {
        "id": "QY8ihRwr2DyI"
      }
    },
    {
      "cell_type": "code",
      "source": [
        "# Install extra-dependencies\n",
        "! pip -q install git+https://www.github.com/keras-team/keras-contrib.git sklearn-crfsuite"
      ],
      "metadata": {
        "colab": {
          "base_uri": "https://localhost:8080/"
        },
        "id": "vZ3uo2hMxZNN",
        "outputId": "6c626053-a1aa-4450-e6d5-0a6a282d0bcf"
      },
      "execution_count": 1,
      "outputs": [
        {
          "output_type": "stream",
          "name": "stdout",
          "text": [
            "\u001b[?25l\r\u001b[K     |▍                               | 10 kB 41.2 MB/s eta 0:00:01\r\u001b[K     |▉                               | 20 kB 32.6 MB/s eta 0:00:01\r\u001b[K     |█▎                              | 30 kB 21.7 MB/s eta 0:00:01\r\u001b[K     |█▊                              | 40 kB 17.0 MB/s eta 0:00:01\r\u001b[K     |██▏                             | 51 kB 10.3 MB/s eta 0:00:01\r\u001b[K     |██▋                             | 61 kB 10.0 MB/s eta 0:00:01\r\u001b[K     |███                             | 71 kB 9.1 MB/s eta 0:00:01\r\u001b[K     |███▌                            | 81 kB 10.1 MB/s eta 0:00:01\r\u001b[K     |████                            | 92 kB 11.2 MB/s eta 0:00:01\r\u001b[K     |████▍                           | 102 kB 9.7 MB/s eta 0:00:01\r\u001b[K     |████▉                           | 112 kB 9.7 MB/s eta 0:00:01\r\u001b[K     |█████▎                          | 122 kB 9.7 MB/s eta 0:00:01\r\u001b[K     |█████▊                          | 133 kB 9.7 MB/s eta 0:00:01\r\u001b[K     |██████▏                         | 143 kB 9.7 MB/s eta 0:00:01\r\u001b[K     |██████▋                         | 153 kB 9.7 MB/s eta 0:00:01\r\u001b[K     |███████                         | 163 kB 9.7 MB/s eta 0:00:01\r\u001b[K     |███████▌                        | 174 kB 9.7 MB/s eta 0:00:01\r\u001b[K     |████████                        | 184 kB 9.7 MB/s eta 0:00:01\r\u001b[K     |████████▍                       | 194 kB 9.7 MB/s eta 0:00:01\r\u001b[K     |████████▉                       | 204 kB 9.7 MB/s eta 0:00:01\r\u001b[K     |█████████▎                      | 215 kB 9.7 MB/s eta 0:00:01\r\u001b[K     |█████████▊                      | 225 kB 9.7 MB/s eta 0:00:01\r\u001b[K     |██████████▏                     | 235 kB 9.7 MB/s eta 0:00:01\r\u001b[K     |██████████▋                     | 245 kB 9.7 MB/s eta 0:00:01\r\u001b[K     |███████████                     | 256 kB 9.7 MB/s eta 0:00:01\r\u001b[K     |███████████▌                    | 266 kB 9.7 MB/s eta 0:00:01\r\u001b[K     |████████████                    | 276 kB 9.7 MB/s eta 0:00:01\r\u001b[K     |████████████▍                   | 286 kB 9.7 MB/s eta 0:00:01\r\u001b[K     |████████████▉                   | 296 kB 9.7 MB/s eta 0:00:01\r\u001b[K     |█████████████▏                  | 307 kB 9.7 MB/s eta 0:00:01\r\u001b[K     |█████████████▋                  | 317 kB 9.7 MB/s eta 0:00:01\r\u001b[K     |██████████████                  | 327 kB 9.7 MB/s eta 0:00:01\r\u001b[K     |██████████████▌                 | 337 kB 9.7 MB/s eta 0:00:01\r\u001b[K     |███████████████                 | 348 kB 9.7 MB/s eta 0:00:01\r\u001b[K     |███████████████▍                | 358 kB 9.7 MB/s eta 0:00:01\r\u001b[K     |███████████████▉                | 368 kB 9.7 MB/s eta 0:00:01\r\u001b[K     |████████████████▎               | 378 kB 9.7 MB/s eta 0:00:01\r\u001b[K     |████████████████▊               | 389 kB 9.7 MB/s eta 0:00:01\r\u001b[K     |█████████████████▏              | 399 kB 9.7 MB/s eta 0:00:01\r\u001b[K     |█████████████████▋              | 409 kB 9.7 MB/s eta 0:00:01\r\u001b[K     |██████████████████              | 419 kB 9.7 MB/s eta 0:00:01\r\u001b[K     |██████████████████▌             | 430 kB 9.7 MB/s eta 0:00:01\r\u001b[K     |███████████████████             | 440 kB 9.7 MB/s eta 0:00:01\r\u001b[K     |███████████████████▍            | 450 kB 9.7 MB/s eta 0:00:01\r\u001b[K     |███████████████████▉            | 460 kB 9.7 MB/s eta 0:00:01\r\u001b[K     |████████████████████▎           | 471 kB 9.7 MB/s eta 0:00:01\r\u001b[K     |████████████████████▊           | 481 kB 9.7 MB/s eta 0:00:01\r\u001b[K     |█████████████████████▏          | 491 kB 9.7 MB/s eta 0:00:01\r\u001b[K     |█████████████████████▋          | 501 kB 9.7 MB/s eta 0:00:01\r\u001b[K     |██████████████████████          | 512 kB 9.7 MB/s eta 0:00:01\r\u001b[K     |██████████████████████▌         | 522 kB 9.7 MB/s eta 0:00:01\r\u001b[K     |███████████████████████         | 532 kB 9.7 MB/s eta 0:00:01\r\u001b[K     |███████████████████████▍        | 542 kB 9.7 MB/s eta 0:00:01\r\u001b[K     |███████████████████████▉        | 552 kB 9.7 MB/s eta 0:00:01\r\u001b[K     |████████████████████████▎       | 563 kB 9.7 MB/s eta 0:00:01\r\u001b[K     |████████████████████████▊       | 573 kB 9.7 MB/s eta 0:00:01\r\u001b[K     |█████████████████████████▏      | 583 kB 9.7 MB/s eta 0:00:01\r\u001b[K     |█████████████████████████▋      | 593 kB 9.7 MB/s eta 0:00:01\r\u001b[K     |██████████████████████████      | 604 kB 9.7 MB/s eta 0:00:01\r\u001b[K     |██████████████████████████▍     | 614 kB 9.7 MB/s eta 0:00:01\r\u001b[K     |██████████████████████████▉     | 624 kB 9.7 MB/s eta 0:00:01\r\u001b[K     |███████████████████████████▎    | 634 kB 9.7 MB/s eta 0:00:01\r\u001b[K     |███████████████████████████▊    | 645 kB 9.7 MB/s eta 0:00:01\r\u001b[K     |████████████████████████████▏   | 655 kB 9.7 MB/s eta 0:00:01\r\u001b[K     |████████████████████████████▋   | 665 kB 9.7 MB/s eta 0:00:01\r\u001b[K     |█████████████████████████████   | 675 kB 9.7 MB/s eta 0:00:01\r\u001b[K     |█████████████████████████████▌  | 686 kB 9.7 MB/s eta 0:00:01\r\u001b[K     |██████████████████████████████  | 696 kB 9.7 MB/s eta 0:00:01\r\u001b[K     |██████████████████████████████▍ | 706 kB 9.7 MB/s eta 0:00:01\r\u001b[K     |██████████████████████████████▉ | 716 kB 9.7 MB/s eta 0:00:01\r\u001b[K     |███████████████████████████████▎| 727 kB 9.7 MB/s eta 0:00:01\r\u001b[K     |███████████████████████████████▊| 737 kB 9.7 MB/s eta 0:00:01\r\u001b[K     |████████████████████████████████| 743 kB 9.7 MB/s \n",
            "\u001b[?25h  Building wheel for keras-contrib (setup.py) ... \u001b[?25l\u001b[?25hdone\n"
          ]
        }
      ]
    },
    {
      "cell_type": "code",
      "source": [
        "# Use tensorflow 1.x to work with keras-contrib CRF\n",
        "%tensorflow_version 1.x"
      ],
      "metadata": {
        "id": "A8cPUKvXzEkP"
      },
      "execution_count": 82,
      "outputs": []
    },
    {
      "cell_type": "code",
      "execution_count": 3,
      "metadata": {
        "id": "7qqcFRNMt6I9",
        "colab": {
          "base_uri": "https://localhost:8080/"
        },
        "outputId": "f7d05c9b-174d-401c-c104-fe65971886a5"
      },
      "outputs": [
        {
          "output_type": "stream",
          "name": "stderr",
          "text": [
            "Using TensorFlow backend.\n"
          ]
        }
      ],
      "source": [
        "## Importing all required packages\n",
        "import pandas as pd\n",
        "import numpy as np\n",
        "import matplotlib.pyplot as plt\n",
        "import keras"
      ]
    },
    {
      "cell_type": "code",
      "source": [
        "import tensorflow as tf"
      ],
      "metadata": {
        "id": "2dRS_GfGzQaq"
      },
      "execution_count": 5,
      "outputs": []
    },
    {
      "cell_type": "code",
      "source": [
        "# Hyperparams if GPU is available\n",
        "if tf.test.is_gpu_available():\n",
        "    BATCH_SIZE = 512  # Number of examples used in each iteration\n",
        "    EPOCHS = 5  # Number of passes through entire dataset\n",
        "    MAX_LEN = 75  # Max length of review (in words)\n",
        "    EMBEDDING = 40  # Dimension of word embedding vector\n",
        "# Hyperparams for CPU training\n",
        "else:\n",
        "    BATCH_SIZE = 32\n",
        "    EPOCHS = 5\n",
        "    MAX_LEN = 75\n",
        "    EMBEDDING = 20"
      ],
      "metadata": {
        "id": "E_fa8e8Nx3_L"
      },
      "execution_count": 7,
      "outputs": []
    },
    {
      "cell_type": "markdown",
      "source": [
        "## Loading Data"
      ],
      "metadata": {
        "id": "VoMVidcG1976"
      }
    },
    {
      "cell_type": "code",
      "source": [
        "## Loading data \n",
        "train_data = pd.read_csv(\"/content/drive/MyDrive/Colab Notebooks/n2c2/train.csv\")\n",
        "test_data = pd.read_csv(\"/content/drive/MyDrive/Colab Notebooks/n2c2/test.csv\")"
      ],
      "metadata": {
        "id": "DHWcX_d0w1WU"
      },
      "execution_count": 8,
      "outputs": []
    },
    {
      "cell_type": "code",
      "source": [
        "train_data.head()"
      ],
      "metadata": {
        "colab": {
          "base_uri": "https://localhost:8080/",
          "height": 206
        },
        "id": "q-pSg_8vzcgS",
        "outputId": "aceeb637-4a05-4ae9-faa6-a5a6de36cf84"
      },
      "execution_count": 9,
      "outputs": [
        {
          "output_type": "execute_result",
          "data": {
            "text/html": [
              "\n",
              "  <div id=\"df-0a9ccbaf-fbe4-4a24-959b-e6059f5a2147\">\n",
              "    <div class=\"colab-df-container\">\n",
              "      <div>\n",
              "<style scoped>\n",
              "    .dataframe tbody tr th:only-of-type {\n",
              "        vertical-align: middle;\n",
              "    }\n",
              "\n",
              "    .dataframe tbody tr th {\n",
              "        vertical-align: top;\n",
              "    }\n",
              "\n",
              "    .dataframe thead th {\n",
              "        text-align: right;\n",
              "    }\n",
              "</style>\n",
              "<table border=\"1\" class=\"dataframe\">\n",
              "  <thead>\n",
              "    <tr style=\"text-align: right;\">\n",
              "      <th></th>\n",
              "      <th>id</th>\n",
              "      <th>Doc_ID</th>\n",
              "      <th>Sent_ID</th>\n",
              "      <th>Word</th>\n",
              "      <th>tag</th>\n",
              "    </tr>\n",
              "  </thead>\n",
              "  <tbody>\n",
              "    <tr>\n",
              "      <th>0</th>\n",
              "      <td>1</td>\n",
              "      <td>1</td>\n",
              "      <td>1</td>\n",
              "      <td>Obesity</td>\n",
              "      <td>O</td>\n",
              "    </tr>\n",
              "    <tr>\n",
              "      <th>1</th>\n",
              "      <td>2</td>\n",
              "      <td>1</td>\n",
              "      <td>1</td>\n",
              "      <td>in</td>\n",
              "      <td>O</td>\n",
              "    </tr>\n",
              "    <tr>\n",
              "      <th>2</th>\n",
              "      <td>3</td>\n",
              "      <td>1</td>\n",
              "      <td>1</td>\n",
              "      <td>Low-</td>\n",
              "      <td>O</td>\n",
              "    </tr>\n",
              "    <tr>\n",
              "      <th>3</th>\n",
              "      <td>4</td>\n",
              "      <td>1</td>\n",
              "      <td>1</td>\n",
              "      <td>and</td>\n",
              "      <td>O</td>\n",
              "    </tr>\n",
              "    <tr>\n",
              "      <th>4</th>\n",
              "      <td>5</td>\n",
              "      <td>1</td>\n",
              "      <td>1</td>\n",
              "      <td>Middle-Income</td>\n",
              "      <td>O</td>\n",
              "    </tr>\n",
              "  </tbody>\n",
              "</table>\n",
              "</div>\n",
              "      <button class=\"colab-df-convert\" onclick=\"convertToInteractive('df-0a9ccbaf-fbe4-4a24-959b-e6059f5a2147')\"\n",
              "              title=\"Convert this dataframe to an interactive table.\"\n",
              "              style=\"display:none;\">\n",
              "        \n",
              "  <svg xmlns=\"http://www.w3.org/2000/svg\" height=\"24px\"viewBox=\"0 0 24 24\"\n",
              "       width=\"24px\">\n",
              "    <path d=\"M0 0h24v24H0V0z\" fill=\"none\"/>\n",
              "    <path d=\"M18.56 5.44l.94 2.06.94-2.06 2.06-.94-2.06-.94-.94-2.06-.94 2.06-2.06.94zm-11 1L8.5 8.5l.94-2.06 2.06-.94-2.06-.94L8.5 2.5l-.94 2.06-2.06.94zm10 10l.94 2.06.94-2.06 2.06-.94-2.06-.94-.94-2.06-.94 2.06-2.06.94z\"/><path d=\"M17.41 7.96l-1.37-1.37c-.4-.4-.92-.59-1.43-.59-.52 0-1.04.2-1.43.59L10.3 9.45l-7.72 7.72c-.78.78-.78 2.05 0 2.83L4 21.41c.39.39.9.59 1.41.59.51 0 1.02-.2 1.41-.59l7.78-7.78 2.81-2.81c.8-.78.8-2.07 0-2.86zM5.41 20L4 18.59l7.72-7.72 1.47 1.35L5.41 20z\"/>\n",
              "  </svg>\n",
              "      </button>\n",
              "      \n",
              "  <style>\n",
              "    .colab-df-container {\n",
              "      display:flex;\n",
              "      flex-wrap:wrap;\n",
              "      gap: 12px;\n",
              "    }\n",
              "\n",
              "    .colab-df-convert {\n",
              "      background-color: #E8F0FE;\n",
              "      border: none;\n",
              "      border-radius: 50%;\n",
              "      cursor: pointer;\n",
              "      display: none;\n",
              "      fill: #1967D2;\n",
              "      height: 32px;\n",
              "      padding: 0 0 0 0;\n",
              "      width: 32px;\n",
              "    }\n",
              "\n",
              "    .colab-df-convert:hover {\n",
              "      background-color: #E2EBFA;\n",
              "      box-shadow: 0px 1px 2px rgba(60, 64, 67, 0.3), 0px 1px 3px 1px rgba(60, 64, 67, 0.15);\n",
              "      fill: #174EA6;\n",
              "    }\n",
              "\n",
              "    [theme=dark] .colab-df-convert {\n",
              "      background-color: #3B4455;\n",
              "      fill: #D2E3FC;\n",
              "    }\n",
              "\n",
              "    [theme=dark] .colab-df-convert:hover {\n",
              "      background-color: #434B5C;\n",
              "      box-shadow: 0px 1px 3px 1px rgba(0, 0, 0, 0.15);\n",
              "      filter: drop-shadow(0px 1px 2px rgba(0, 0, 0, 0.3));\n",
              "      fill: #FFFFFF;\n",
              "    }\n",
              "  </style>\n",
              "\n",
              "      <script>\n",
              "        const buttonEl =\n",
              "          document.querySelector('#df-0a9ccbaf-fbe4-4a24-959b-e6059f5a2147 button.colab-df-convert');\n",
              "        buttonEl.style.display =\n",
              "          google.colab.kernel.accessAllowed ? 'block' : 'none';\n",
              "\n",
              "        async function convertToInteractive(key) {\n",
              "          const element = document.querySelector('#df-0a9ccbaf-fbe4-4a24-959b-e6059f5a2147');\n",
              "          const dataTable =\n",
              "            await google.colab.kernel.invokeFunction('convertToInteractive',\n",
              "                                                     [key], {});\n",
              "          if (!dataTable) return;\n",
              "\n",
              "          const docLinkHtml = 'Like what you see? Visit the ' +\n",
              "            '<a target=\"_blank\" href=https://colab.research.google.com/notebooks/data_table.ipynb>data table notebook</a>'\n",
              "            + ' to learn more about interactive tables.';\n",
              "          element.innerHTML = '';\n",
              "          dataTable['output_type'] = 'display_data';\n",
              "          await google.colab.output.renderOutput(dataTable, element);\n",
              "          const docLink = document.createElement('div');\n",
              "          docLink.innerHTML = docLinkHtml;\n",
              "          element.appendChild(docLink);\n",
              "        }\n",
              "      </script>\n",
              "    </div>\n",
              "  </div>\n",
              "  "
            ],
            "text/plain": [
              "   id  Doc_ID  Sent_ID           Word tag\n",
              "0   1       1        1        Obesity   O\n",
              "1   2       1        1             in   O\n",
              "2   3       1        1           Low-   O\n",
              "3   4       1        1            and   O\n",
              "4   5       1        1  Middle-Income   O"
            ]
          },
          "metadata": {},
          "execution_count": 9
        }
      ]
    },
    {
      "cell_type": "code",
      "source": [
        "test_data.head()"
      ],
      "metadata": {
        "colab": {
          "base_uri": "https://localhost:8080/",
          "height": 206
        },
        "id": "eclp5UG0zgX6",
        "outputId": "290aedfd-e42d-48a3-e0ac-3df2a1b1a334"
      },
      "execution_count": 10,
      "outputs": [
        {
          "output_type": "execute_result",
          "data": {
            "text/html": [
              "\n",
              "  <div id=\"df-6309b83f-8025-4262-912a-849faab32b3a\">\n",
              "    <div class=\"colab-df-container\">\n",
              "      <div>\n",
              "<style scoped>\n",
              "    .dataframe tbody tr th:only-of-type {\n",
              "        vertical-align: middle;\n",
              "    }\n",
              "\n",
              "    .dataframe tbody tr th {\n",
              "        vertical-align: top;\n",
              "    }\n",
              "\n",
              "    .dataframe thead th {\n",
              "        text-align: right;\n",
              "    }\n",
              "</style>\n",
              "<table border=\"1\" class=\"dataframe\">\n",
              "  <thead>\n",
              "    <tr style=\"text-align: right;\">\n",
              "      <th></th>\n",
              "      <th>id</th>\n",
              "      <th>Doc_ID</th>\n",
              "      <th>Sent_ID</th>\n",
              "      <th>Word</th>\n",
              "    </tr>\n",
              "  </thead>\n",
              "  <tbody>\n",
              "    <tr>\n",
              "      <th>0</th>\n",
              "      <td>4543834</td>\n",
              "      <td>30001</td>\n",
              "      <td>191283</td>\n",
              "      <td>CCCVA</td>\n",
              "    </tr>\n",
              "    <tr>\n",
              "      <th>1</th>\n",
              "      <td>4543835</td>\n",
              "      <td>30001</td>\n",
              "      <td>191283</td>\n",
              "      <td>,</td>\n",
              "    </tr>\n",
              "    <tr>\n",
              "      <th>2</th>\n",
              "      <td>4543836</td>\n",
              "      <td>30001</td>\n",
              "      <td>191283</td>\n",
              "      <td>MANOVA</td>\n",
              "    </tr>\n",
              "    <tr>\n",
              "      <th>3</th>\n",
              "      <td>4543837</td>\n",
              "      <td>30001</td>\n",
              "      <td>191283</td>\n",
              "      <td>,</td>\n",
              "    </tr>\n",
              "    <tr>\n",
              "      <th>4</th>\n",
              "      <td>4543838</td>\n",
              "      <td>30001</td>\n",
              "      <td>191283</td>\n",
              "      <td>my</td>\n",
              "    </tr>\n",
              "  </tbody>\n",
              "</table>\n",
              "</div>\n",
              "      <button class=\"colab-df-convert\" onclick=\"convertToInteractive('df-6309b83f-8025-4262-912a-849faab32b3a')\"\n",
              "              title=\"Convert this dataframe to an interactive table.\"\n",
              "              style=\"display:none;\">\n",
              "        \n",
              "  <svg xmlns=\"http://www.w3.org/2000/svg\" height=\"24px\"viewBox=\"0 0 24 24\"\n",
              "       width=\"24px\">\n",
              "    <path d=\"M0 0h24v24H0V0z\" fill=\"none\"/>\n",
              "    <path d=\"M18.56 5.44l.94 2.06.94-2.06 2.06-.94-2.06-.94-.94-2.06-.94 2.06-2.06.94zm-11 1L8.5 8.5l.94-2.06 2.06-.94-2.06-.94L8.5 2.5l-.94 2.06-2.06.94zm10 10l.94 2.06.94-2.06 2.06-.94-2.06-.94-.94-2.06-.94 2.06-2.06.94z\"/><path d=\"M17.41 7.96l-1.37-1.37c-.4-.4-.92-.59-1.43-.59-.52 0-1.04.2-1.43.59L10.3 9.45l-7.72 7.72c-.78.78-.78 2.05 0 2.83L4 21.41c.39.39.9.59 1.41.59.51 0 1.02-.2 1.41-.59l7.78-7.78 2.81-2.81c.8-.78.8-2.07 0-2.86zM5.41 20L4 18.59l7.72-7.72 1.47 1.35L5.41 20z\"/>\n",
              "  </svg>\n",
              "      </button>\n",
              "      \n",
              "  <style>\n",
              "    .colab-df-container {\n",
              "      display:flex;\n",
              "      flex-wrap:wrap;\n",
              "      gap: 12px;\n",
              "    }\n",
              "\n",
              "    .colab-df-convert {\n",
              "      background-color: #E8F0FE;\n",
              "      border: none;\n",
              "      border-radius: 50%;\n",
              "      cursor: pointer;\n",
              "      display: none;\n",
              "      fill: #1967D2;\n",
              "      height: 32px;\n",
              "      padding: 0 0 0 0;\n",
              "      width: 32px;\n",
              "    }\n",
              "\n",
              "    .colab-df-convert:hover {\n",
              "      background-color: #E2EBFA;\n",
              "      box-shadow: 0px 1px 2px rgba(60, 64, 67, 0.3), 0px 1px 3px 1px rgba(60, 64, 67, 0.15);\n",
              "      fill: #174EA6;\n",
              "    }\n",
              "\n",
              "    [theme=dark] .colab-df-convert {\n",
              "      background-color: #3B4455;\n",
              "      fill: #D2E3FC;\n",
              "    }\n",
              "\n",
              "    [theme=dark] .colab-df-convert:hover {\n",
              "      background-color: #434B5C;\n",
              "      box-shadow: 0px 1px 3px 1px rgba(0, 0, 0, 0.15);\n",
              "      filter: drop-shadow(0px 1px 2px rgba(0, 0, 0, 0.3));\n",
              "      fill: #FFFFFF;\n",
              "    }\n",
              "  </style>\n",
              "\n",
              "      <script>\n",
              "        const buttonEl =\n",
              "          document.querySelector('#df-6309b83f-8025-4262-912a-849faab32b3a button.colab-df-convert');\n",
              "        buttonEl.style.display =\n",
              "          google.colab.kernel.accessAllowed ? 'block' : 'none';\n",
              "\n",
              "        async function convertToInteractive(key) {\n",
              "          const element = document.querySelector('#df-6309b83f-8025-4262-912a-849faab32b3a');\n",
              "          const dataTable =\n",
              "            await google.colab.kernel.invokeFunction('convertToInteractive',\n",
              "                                                     [key], {});\n",
              "          if (!dataTable) return;\n",
              "\n",
              "          const docLinkHtml = 'Like what you see? Visit the ' +\n",
              "            '<a target=\"_blank\" href=https://colab.research.google.com/notebooks/data_table.ipynb>data table notebook</a>'\n",
              "            + ' to learn more about interactive tables.';\n",
              "          element.innerHTML = '';\n",
              "          dataTable['output_type'] = 'display_data';\n",
              "          await google.colab.output.renderOutput(dataTable, element);\n",
              "          const docLink = document.createElement('div');\n",
              "          docLink.innerHTML = docLinkHtml;\n",
              "          element.appendChild(docLink);\n",
              "        }\n",
              "      </script>\n",
              "    </div>\n",
              "  </div>\n",
              "  "
            ],
            "text/plain": [
              "        id  Doc_ID  Sent_ID    Word\n",
              "0  4543834   30001   191283   CCCVA\n",
              "1  4543835   30001   191283       ,\n",
              "2  4543836   30001   191283  MANOVA\n",
              "3  4543837   30001   191283       ,\n",
              "4  4543838   30001   191283      my"
            ]
          },
          "metadata": {},
          "execution_count": 10
        }
      ]
    },
    {
      "cell_type": "markdown",
      "source": [
        "## Exploring the Data"
      ],
      "metadata": {
        "id": "tb_C5gG_16OQ"
      }
    },
    {
      "cell_type": "code",
      "source": [
        "train_data.tag.unique()"
      ],
      "metadata": {
        "colab": {
          "base_uri": "https://localhost:8080/"
        },
        "id": "jCuO_wUXzsKr",
        "outputId": "16f8e20b-21ea-456e-f6df-4221df8770dc"
      },
      "execution_count": 11,
      "outputs": [
        {
          "output_type": "execute_result",
          "data": {
            "text/plain": [
              "array(['O', 'B-indications', 'I-indications'], dtype=object)"
            ]
          },
          "metadata": {},
          "execution_count": 11
        }
      ]
    },
    {
      "cell_type": "code",
      "source": [
        "## Getting the list of words\n",
        "words = list(set(train_data[\"Word\"].append(test_data[\"Word\"]).values))\n",
        "n_words = len(words)\n",
        "n_words, words[20:23]"
      ],
      "metadata": {
        "colab": {
          "base_uri": "https://localhost:8080/"
        },
        "id": "j1CYRUh7z04B",
        "outputId": "4ad0c577-13dc-4819-c385-ee900d4872bf"
      },
      "execution_count": 12,
      "outputs": [
        {
          "output_type": "execute_result",
          "data": {
            "text/plain": [
              "(257202, ['0.712', 'axle', 'determinaram'])"
            ]
          },
          "metadata": {},
          "execution_count": 12
        }
      ]
    },
    {
      "cell_type": "code",
      "source": [
        "words[:4]"
      ],
      "metadata": {
        "colab": {
          "base_uri": "https://localhost:8080/"
        },
        "id": "lrOLuiW6dTbP",
        "outputId": "9ebdb33e-0a88-41a7-bbdc-7492ae812b74"
      },
      "execution_count": 13,
      "outputs": [
        {
          "output_type": "execute_result",
          "data": {
            "text/plain": [
              "['textual', nan, 'lithophages', 'stabilometric']"
            ]
          },
          "metadata": {},
          "execution_count": 13
        }
      ]
    },
    {
      "cell_type": "code",
      "source": [
        "## Creating the list of tags\n",
        "tags = list(set(train_data[\"tag\"].values))\n",
        "n_tags = len(tags)\n",
        "n_tags"
      ],
      "metadata": {
        "colab": {
          "base_uri": "https://localhost:8080/"
        },
        "id": "qPNtEJ1E0jSk",
        "outputId": "bc0b51bf-482d-477b-a3c6-bad37dd47bb7"
      },
      "execution_count": 14,
      "outputs": [
        {
          "output_type": "execute_result",
          "data": {
            "text/plain": [
              "3"
            ]
          },
          "metadata": {},
          "execution_count": 14
        }
      ]
    },
    {
      "cell_type": "markdown",
      "source": [
        "## Constructing Sentences as Lists of (word, tag) Tuples"
      ],
      "metadata": {
        "id": "bUM0qUjb10QZ"
      }
    },
    {
      "cell_type": "code",
      "source": [
        "word_tag_func = lambda s: [(word,tag) for word, tag in zip(s[\"Word\"].values, s[\"tag\"].values)]\n",
        "grouped_word_tag = train_data.groupby(\"Sent_ID\").apply(word_tag_func)\n",
        "sentences = [s for s in grouped_word_tag]\n",
        "\n",
        "word_tag_func = lambda s: [word for word in s[\"Word\"].values]\n",
        "grouped_word = test_data.groupby(\"Sent_ID\").apply(word_tag_func )\n",
        "test_sentences = [s for s in grouped_word]"
      ],
      "metadata": {
        "id": "rOHQvK8W1rTj"
      },
      "execution_count": 15,
      "outputs": []
    },
    {
      "cell_type": "code",
      "source": [
        "# print a sentence with a disease and having more than 10 words\n",
        "stop = False\n",
        "for sent in sentences:\n",
        "    if stop == False:\n",
        "        for tup in sent:\n",
        "            if tup[1] == 'I-indications':\n",
        "                if len(sent) > 10:\n",
        "                    print(sent)\n",
        "                    stop = True\n",
        "                    break"
      ],
      "metadata": {
        "colab": {
          "base_uri": "https://localhost:8080/"
        },
        "id": "nOVeE6KZ2RcX",
        "outputId": "5a2508f3-5f32-4f32-fb3b-b351ede8cb86"
      },
      "execution_count": 16,
      "outputs": [
        {
          "output_type": "stream",
          "name": "stdout",
          "text": [
            "[('We', 'O'), ('compared', 'O'), ('the', 'O'), ('inter-day', 'O'), ('reproducibility', 'O'), ('of', 'O'), ('post-occlusive', 'O'), ('reactive', 'B-indications'), ('hyperemia', 'I-indications'), ('(', 'O'), ('PORH', 'O'), (')', 'O'), ('assessed', 'O'), ('by', 'O'), ('single-point', 'O'), ('laser', 'O'), ('Doppler', 'O'), ('flowmetry', 'O'), ('(', 'O'), ('LDF', 'O'), (')', 'O'), ('and', 'O'), ('laser', 'O'), ('speckle', 'O'), ('contrast', 'O'), ('analysis', 'O'), ('(', 'O'), ('LSCI', 'O'), (')', 'O'), (',', 'O'), ('and', 'O'), ('the', 'O'), ('reproducibility', 'O'), ('of', 'O'), ('local', 'O'), ('thermal', 'O'), ('hyperemia', 'O'), ('(', 'O'), ('LTH', 'O'), (')', 'O'), ('assessed', 'O'), ('by', 'O'), ('LDF', 'O'), (',', 'O'), ('laser', 'O'), ('Doppler', 'O'), ('imaging', 'O'), ('(', 'O'), ('LDI', 'O'), (')', 'O'), ('and', 'O'), ('LSCI', 'O'), ('.', 'O')]\n"
          ]
        }
      ]
    },
    {
      "cell_type": "markdown",
      "source": [
        "## Visualizing the Lengths of the Sentences"
      ],
      "metadata": {
        "id": "aIqUzLVHXDrO"
      }
    },
    {
      "cell_type": "code",
      "source": [
        "# How many sentences\n",
        "len(sentences)"
      ],
      "metadata": {
        "colab": {
          "base_uri": "https://localhost:8080/"
        },
        "id": "a-BLbAXVX31W",
        "outputId": "911b8616-cf7b-4585-b7d6-dcdc03da481e"
      },
      "execution_count": 17,
      "outputs": [
        {
          "output_type": "execute_result",
          "data": {
            "text/plain": [
              "191282"
            ]
          },
          "metadata": {},
          "execution_count": 17
        }
      ]
    },
    {
      "cell_type": "code",
      "source": [
        "# Get all lengths\n",
        "lens = np.array([len(s) for s in sentences])\n",
        "lens.min(), lens.max()"
      ],
      "metadata": {
        "colab": {
          "base_uri": "https://localhost:8080/"
        },
        "id": "sw4oOQo8YB4U",
        "outputId": "56389f1b-8b3a-4050-8230-dacba20849b6"
      },
      "execution_count": 18,
      "outputs": [
        {
          "output_type": "execute_result",
          "data": {
            "text/plain": [
              "(1, 3899)"
            ]
          },
          "metadata": {},
          "execution_count": 18
        }
      ]
    },
    {
      "cell_type": "code",
      "source": [
        "# How many sentences which very long?\n",
        "(lens > 100).sum()"
      ],
      "metadata": {
        "colab": {
          "base_uri": "https://localhost:8080/"
        },
        "id": "4AQH1g7CYVQQ",
        "outputId": "bbfbfedb-3ad5-448b-84c1-1d10ee74966e"
      },
      "execution_count": 19,
      "outputs": [
        {
          "output_type": "execute_result",
          "data": {
            "text/plain": [
              "371"
            ]
          },
          "metadata": {},
          "execution_count": 19
        }
      ]
    },
    {
      "cell_type": "code",
      "source": [
        "# Plot sentence by length (< 100 tokens)\n",
        "plt.hist(lens[lens<100], bins=50)\n",
        "plt.title('# of Token per sentence')\n",
        "plt.xlabel('Len (number of token)')\n",
        "plt.ylabel('# sentences')\n",
        "plt.show()"
      ],
      "metadata": {
        "colab": {
          "base_uri": "https://localhost:8080/",
          "height": 295
        },
        "id": "euEeAUbgXF8o",
        "outputId": "17a9ff76-2347-430a-cbda-fd0ae47f55e7"
      },
      "execution_count": 20,
      "outputs": [
        {
          "output_type": "display_data",
          "data": {
            "image/png": "[encoded data removed]",
            "text/plain": [
              "<Figure size 432x288 with 1 Axes>"
            ]
          },
          "metadata": {
            "needs_background": "light"
          }
        }
      ]
    },
    {
      "cell_type": "markdown",
      "source": [
        "## Pre-processing\n",
        "Before feeding the data to the model we need to further preprocess the text.\n",
        "1. We will convert each text word to a corresponding integer ID using the word_idx dictionary. Doing so saves a lot of memory.\n",
        "2. In order to feed the data to the LSTM-CRF model, we need to ensure that all text should be of the same length. The method sequence.pad_sequences() and variable MAX_LEN are used for this purpose. The text which are shorter than MAX_LEN are padded to get them to the same length, whereas text which are longer than MAX_LEN are truncated. The Tokens per sentence plot (see above) is useful for setting the MAX_LEN training hyperparameter."
      ],
      "metadata": {
        "id": "qunKEuPbZn_f"
      }
    },
    {
      "cell_type": "code",
      "source": [
        "## map words to indices and vice versa\n",
        "word_idx = {word:index+2 for index, word in enumerate(words)}\n",
        "word_idx[\"UNK\"] = 1 # Unknown words\n",
        "word_idx[\"PAD\"] = 0 # Padding\n",
        "# Vocabulary Key:token_index -> Value:word\n",
        "idx_word = {i: w for w, i in word_idx.items()}"
      ],
      "metadata": {
        "id": "OihE7eh-apoJ"
      },
      "execution_count": 21,
      "outputs": []
    },
    {
      "cell_type": "code",
      "source": [
        "list(word_idx.items())[:4]"
      ],
      "metadata": {
        "colab": {
          "base_uri": "https://localhost:8080/"
        },
        "id": "NA38g-14cZDH",
        "outputId": "5d177ed8-24f7-4167-a3a8-f06ebf4cf0a1"
      },
      "execution_count": 22,
      "outputs": [
        {
          "output_type": "execute_result",
          "data": {
            "text/plain": [
              "[('textual', 2), (nan, 3), ('lithophages', 4), ('stabilometric', 5)]"
            ]
          },
          "metadata": {},
          "execution_count": 22
        }
      ]
    },
    {
      "cell_type": "code",
      "source": [
        "# map tags to indices and vice versa\n",
        "tag_idx = {t: i+1 for i, t in enumerate(tags)}\n",
        "tag_idx[\"PAD\"] = 0\n",
        "# Vocabulary Key:tag_index -> Value:Label/Tag\n",
        "idx_tag = {i: w for w, i in tag_idx.items()}"
      ],
      "metadata": {
        "id": "dyohXJa_bW-W"
      },
      "execution_count": 23,
      "outputs": []
    },
    {
      "cell_type": "code",
      "source": [
        "set(tags)"
      ],
      "metadata": {
        "colab": {
          "base_uri": "https://localhost:8080/"
        },
        "id": "iTvCLugnbxvm",
        "outputId": "b92cec3d-9c13-4111-adb2-367a1ca1333f"
      },
      "execution_count": 24,
      "outputs": [
        {
          "output_type": "execute_result",
          "data": {
            "text/plain": [
              "{'B-indications', 'I-indications', 'O'}"
            ]
          },
          "metadata": {},
          "execution_count": 24
        }
      ]
    },
    {
      "cell_type": "code",
      "source": [
        "print(\"The word hyperemia is identified by the index: {}\".format(word_idx[\"hyperemia\"]))\n",
        "\n",
        "print(\"The labels B-indications(which defines disease Enitities) is identified by the index: {}\".format(tag_idx[\"B-indications\"]))"
      ],
      "metadata": {
        "colab": {
          "base_uri": "https://localhost:8080/"
        },
        "id": "n0Yx3MpBbtNJ",
        "outputId": "7085c2f2-37a7-4e9d-ee34-33bb59ef1192"
      },
      "execution_count": 25,
      "outputs": [
        {
          "output_type": "stream",
          "name": "stdout",
          "text": [
            "The word hyperemia is identified by the index: 117844\n",
            "The labels B-indications(which defines disease Enitities) is identified by the index: 1\n"
          ]
        }
      ]
    },
    {
      "cell_type": "code",
      "source": [
        "from keras.preprocessing.sequence import pad_sequences\n",
        "# Convert each sentence from list of Token to list of word_index\n",
        "X = [[word_idx[w[0]] for w in s] for s in sentences]\n",
        "\n",
        "# Padding each sentence to have the same lenght\n",
        "X = pad_sequences(maxlen=MAX_LEN, sequences=X, padding=\"post\", value=word_idx[\"PAD\"])"
      ],
      "metadata": {
        "id": "PXdCJaa5fcd7"
      },
      "execution_count": 26,
      "outputs": []
    },
    {
      "cell_type": "code",
      "source": [
        "X.shape"
      ],
      "metadata": {
        "colab": {
          "base_uri": "https://localhost:8080/"
        },
        "id": "xTSTH-Gbfkx3",
        "outputId": "78b6f900-262d-4e4c-aa7e-0470a05af481"
      },
      "execution_count": 27,
      "outputs": [
        {
          "output_type": "execute_result",
          "data": {
            "text/plain": [
              "(191282, 75)"
            ]
          },
          "metadata": {},
          "execution_count": 27
        }
      ]
    },
    {
      "cell_type": "code",
      "source": [
        "# Convert Tag/Label to tag_index\n",
        "y = [[tag_idx[w[1]] for w in s] for s in sentences]\n",
        "\n",
        "# Padding each sentence to have the same lenght\n",
        "y = pad_sequences(maxlen=MAX_LEN, sequences=y, padding=\"post\", value=tag_idx[\"PAD\"])"
      ],
      "metadata": {
        "id": "Z9PJXOfGftOM"
      },
      "execution_count": 28,
      "outputs": []
    },
    {
      "cell_type": "code",
      "source": [
        "from tensorflow.keras.utils import to_categorical\n",
        "# One-Hot encode\n",
        "y = [to_categorical(i, num_classes=n_tags+1) for i in y]  # n_tags+1(PAD)"
      ],
      "metadata": {
        "id": "8FHlIi0tgG7u"
      },
      "execution_count": 29,
      "outputs": []
    },
    {
      "cell_type": "code",
      "source": [
        "len(y), y[0].shape"
      ],
      "metadata": {
        "colab": {
          "base_uri": "https://localhost:8080/"
        },
        "id": "cHxXJXD1gT3l",
        "outputId": "fd0edaca-0be6-4595-af9f-aed033a362e4"
      },
      "execution_count": 30,
      "outputs": [
        {
          "output_type": "execute_result",
          "data": {
            "text/plain": [
              "(191282, (75, 4))"
            ]
          },
          "metadata": {},
          "execution_count": 30
        }
      ]
    },
    {
      "cell_type": "code",
      "source": [
        "from sklearn.model_selection import train_test_split\n",
        "X_train, X_test, y_train, y_test = train_test_split(X, y, test_size=0.20, random_state=42)\n",
        "X_train.shape, X_test.shape, np.array(y_train).shape, np.array(y_test).shape"
      ],
      "metadata": {
        "colab": {
          "base_uri": "https://localhost:8080/"
        },
        "id": "wmrSB6Qjgsx9",
        "outputId": "aca150d2-8bf3-4525-c342-1ab0f20002ee"
      },
      "execution_count": 31,
      "outputs": [
        {
          "output_type": "execute_result",
          "data": {
            "text/plain": [
              "((153025, 75), (38257, 75), (153025, 75, 4), (38257, 75, 4))"
            ]
          },
          "metadata": {},
          "execution_count": 31
        }
      ]
    },
    {
      "cell_type": "code",
      "source": [
        "print('Raw Sample: ', ' '.join([w[0] for w in sentences[0]]))\n",
        "print('Raw Label: ', ' '.join([w[1] for w in sentences[0]]))\n",
        "print('After processing, sample:', X[0])\n",
        "print('After processing, labels:', y[0])"
      ],
      "metadata": {
        "colab": {
          "base_uri": "https://localhost:8080/"
        },
        "id": "Q2CH90K3hD_p",
        "outputId": "f98eee4a-5b7c-49b0-d314-9bc2aec7aa97"
      },
      "execution_count": 32,
      "outputs": [
        {
          "output_type": "stream",
          "name": "stdout",
          "text": [
            "Raw Sample:  Obesity in Low- and Middle-Income Countries : Burden , Drivers , and Emerging Challenges .\n",
            "Raw Label:  O O O O O O O O O O O O O O O\n",
            "After processing, sample: [102099 102105 194405 100500 134007  47427 152140 154868 200000 207069\n",
            " 200000 100500 147857  88261 171153      0      0      0      0      0\n",
            "      0      0      0      0      0      0      0      0      0      0\n",
            "      0      0      0      0      0      0      0      0      0      0\n",
            "      0      0      0      0      0      0      0      0      0      0\n",
            "      0      0      0      0      0      0      0      0      0      0\n",
            "      0      0      0      0      0      0      0      0      0      0\n",
            "      0      0      0      0      0]\n",
            "After processing, labels: [[0. 0. 0. 1.]\n",
            " [0. 0. 0. 1.]\n",
            " [0. 0. 0. 1.]\n",
            " [0. 0. 0. 1.]\n",
            " [0. 0. 0. 1.]\n",
            " [0. 0. 0. 1.]\n",
            " [0. 0. 0. 1.]\n",
            " [0. 0. 0. 1.]\n",
            " [0. 0. 0. 1.]\n",
            " [0. 0. 0. 1.]\n",
            " [0. 0. 0. 1.]\n",
            " [0. 0. 0. 1.]\n",
            " [0. 0. 0. 1.]\n",
            " [0. 0. 0. 1.]\n",
            " [0. 0. 0. 1.]\n",
            " [1. 0. 0. 0.]\n",
            " [1. 0. 0. 0.]\n",
            " [1. 0. 0. 0.]\n",
            " [1. 0. 0. 0.]\n",
            " [1. 0. 0. 0.]\n",
            " [1. 0. 0. 0.]\n",
            " [1. 0. 0. 0.]\n",
            " [1. 0. 0. 0.]\n",
            " [1. 0. 0. 0.]\n",
            " [1. 0. 0. 0.]\n",
            " [1. 0. 0. 0.]\n",
            " [1. 0. 0. 0.]\n",
            " [1. 0. 0. 0.]\n",
            " [1. 0. 0. 0.]\n",
            " [1. 0. 0. 0.]\n",
            " [1. 0. 0. 0.]\n",
            " [1. 0. 0. 0.]\n",
            " [1. 0. 0. 0.]\n",
            " [1. 0. 0. 0.]\n",
            " [1. 0. 0. 0.]\n",
            " [1. 0. 0. 0.]\n",
            " [1. 0. 0. 0.]\n",
            " [1. 0. 0. 0.]\n",
            " [1. 0. 0. 0.]\n",
            " [1. 0. 0. 0.]\n",
            " [1. 0. 0. 0.]\n",
            " [1. 0. 0. 0.]\n",
            " [1. 0. 0. 0.]\n",
            " [1. 0. 0. 0.]\n",
            " [1. 0. 0. 0.]\n",
            " [1. 0. 0. 0.]\n",
            " [1. 0. 0. 0.]\n",
            " [1. 0. 0. 0.]\n",
            " [1. 0. 0. 0.]\n",
            " [1. 0. 0. 0.]\n",
            " [1. 0. 0. 0.]\n",
            " [1. 0. 0. 0.]\n",
            " [1. 0. 0. 0.]\n",
            " [1. 0. 0. 0.]\n",
            " [1. 0. 0. 0.]\n",
            " [1. 0. 0. 0.]\n",
            " [1. 0. 0. 0.]\n",
            " [1. 0. 0. 0.]\n",
            " [1. 0. 0. 0.]\n",
            " [1. 0. 0. 0.]\n",
            " [1. 0. 0. 0.]\n",
            " [1. 0. 0. 0.]\n",
            " [1. 0. 0. 0.]\n",
            " [1. 0. 0. 0.]\n",
            " [1. 0. 0. 0.]\n",
            " [1. 0. 0. 0.]\n",
            " [1. 0. 0. 0.]\n",
            " [1. 0. 0. 0.]\n",
            " [1. 0. 0. 0.]\n",
            " [1. 0. 0. 0.]\n",
            " [1. 0. 0. 0.]\n",
            " [1. 0. 0. 0.]\n",
            " [1. 0. 0. 0.]\n",
            " [1. 0. 0. 0.]\n",
            " [1. 0. 0. 0.]]\n"
          ]
        }
      ]
    },
    {
      "cell_type": "code",
      "source": [
        "X_finaltest = [[word_idx[w] for w in s] for s in test_sentences]\n",
        "## Preparing final test data\n",
        "X_finaltest = pad_sequences(sequences= X_test, maxlen= MAX_LEN, padding='post', value=word_idx[\"PAD\"])\n",
        "X_finaltest.shape"
      ],
      "metadata": {
        "colab": {
          "base_uri": "https://localhost:8080/"
        },
        "id": "oFASkngjBhbC",
        "outputId": "63d5b46c-1aa5-47d1-e37d-c637fd577f53"
      },
      "execution_count": 33,
      "outputs": [
        {
          "output_type": "execute_result",
          "data": {
            "text/plain": [
              "(38257, 75)"
            ]
          },
          "metadata": {},
          "execution_count": 33
        }
      ]
    },
    {
      "cell_type": "markdown",
      "source": [
        "## Modeling\n",
        "1. Reference: We will use the Keras library to create the Bi-LSTM-CRF model proposed in the paper: Bidirectional LSTM-CRF Models for Sequence Tagging: https://arxiv.org/abs/1508.01991\n",
        "\n",
        "![bi_LSTM_CRF_NER](https://i.imgur.com/tSNQtfj.png)"
      ],
      "metadata": {
        "id": "wZLLtZKqOKge"
      }
    },
    {
      "cell_type": "code",
      "source": [
        "from keras.models import Model, Input\n",
        "from keras.layers import LSTM, Embedding, Dense, TimeDistributed, Dropout, Bidirectional\n",
        "from keras_contrib.layers import CRF\n",
        "from keras_contrib import losses, metrics\n",
        "# Model definition\n",
        "input = Input(shape=(MAX_LEN,))\n",
        "#model = Embedding(input_dim=n_words+2, output_dim=EMBEDDING, # n_words + 2 (PAD & UNK)\n",
        "#                 input_length=MAX_LEN, mask_zero=True)(input)  # default: 20-dim embedding\n",
        "\n",
        "model = Embedding(input_dim= n_words+2, output_dim=EMBEDDING, \n",
        "                   input_length=MAX_LEN)(input)\n",
        "\n",
        "model = Bidirectional(LSTM(units=50, return_sequences=True,\n",
        "                           recurrent_dropout=0.1))(model)  # variational biLSTM\n",
        "\n",
        "model = TimeDistributed(Dense(50, activation=\"relu\"))(model)  # a dense layer as suggested by neuralNer\n",
        "crf_model = CRF(n_tags+1)  # CRF layer, n_tags+1(PAD)\n",
        "out = crf_model(model)  # output\n",
        "model = Model(input, out)\n",
        "model.compile(optimizer=\"rmsprop\", loss=losses.crf_loss, metrics=[metrics.crf_accuracy])\n",
        "\n",
        "model.summary()"
      ],
      "metadata": {
        "colab": {
          "base_uri": "https://localhost:8080/"
        },
        "id": "ZMshtJYYjrsG",
        "outputId": "80d404f9-9f57-4ff2-b0e3-91d3e3244019"
      },
      "execution_count": 37,
      "outputs": [
        {
          "output_type": "stream",
          "name": "stdout",
          "text": [
            "Model: \"model_2\"\n",
            "_________________________________________________________________\n",
            "Layer (type)                 Output Shape              Param #   \n",
            "=================================================================\n",
            "input_3 (InputLayer)         (None, 75)                0         \n",
            "_________________________________________________________________\n",
            "embedding_3 (Embedding)      (None, 75, 40)            10288160  \n",
            "_________________________________________________________________\n",
            "bidirectional_3 (Bidirection (None, 75, 100)           36400     \n",
            "_________________________________________________________________\n",
            "time_distributed_3 (TimeDist (None, 75, 50)            5050      \n",
            "_________________________________________________________________\n",
            "crf_3 (CRF)                  (None, 75, 4)             228       \n",
            "=================================================================\n",
            "Total params: 10,329,838\n",
            "Trainable params: 10,329,838\n",
            "Non-trainable params: 0\n",
            "_________________________________________________________________\n"
          ]
        }
      ]
    },
    {
      "cell_type": "code",
      "source": [
        "history = model.fit(X_train, np.array(y_train), batch_size=BATCH_SIZE, epochs=EPOCHS, validation_split=0.1, verbose=2)"
      ],
      "metadata": {
        "colab": {
          "base_uri": "https://localhost:8080/"
        },
        "id": "sd3mExuYyCVP",
        "outputId": "ecf5935e-0f1c-4530-eb16-c75e9482fb48"
      },
      "execution_count": 38,
      "outputs": [
        {
          "output_type": "stream",
          "name": "stdout",
          "text": [
            "WARNING:tensorflow:From /tensorflow-1.15.2/python3.7/keras/backend/tensorflow_backend.py:422: The name tf.global_variables is deprecated. Please use tf.compat.v1.global_variables instead.\n",
            "\n",
            "Train on 137722 samples, validate on 15303 samples\n",
            "Epoch 1/5\n",
            " - 56s - loss: 0.0884 - crf_accuracy: 0.9677 - val_loss: 0.0116 - val_crf_accuracy: 0.9952\n",
            "Epoch 2/5\n",
            " - 54s - loss: 0.0065 - crf_accuracy: 0.9960 - val_loss: 0.0036 - val_crf_accuracy: 0.9962\n",
            "Epoch 3/5\n",
            " - 53s - loss: -7.7536e-04 - crf_accuracy: 0.9969 - val_loss: -2.4924e-03 - val_crf_accuracy: 0.9968\n",
            "Epoch 4/5\n",
            " - 54s - loss: -6.2140e-03 - crf_accuracy: 0.9973 - val_loss: -6.9135e-03 - val_crf_accuracy: 0.9968\n",
            "Epoch 5/5\n",
            " - 53s - loss: -1.0953e-02 - crf_accuracy: 0.9976 - val_loss: -1.1188e-02 - val_crf_accuracy: 0.9969\n"
          ]
        }
      ]
    },
    {
      "cell_type": "code",
      "source": [
        "# Plot training & validation accuracy values\n",
        "plt.plot(history.history['crf_accuracy'])\n",
        "plt.plot(history.history['val_crf_accuracy'])\n",
        "plt.title('Model accuracy')\n",
        "plt.ylabel('Accuracy')\n",
        "plt.xlabel('Epoch')\n",
        "plt.legend(['Train', 'Test'])\n",
        "plt.show()"
      ],
      "metadata": {
        "colab": {
          "base_uri": "https://localhost:8080/",
          "height": 295
        },
        "id": "U2z21EQ_1TTw",
        "outputId": "21ba920c-5d2d-4c75-e3cf-7f72319eb2d5"
      },
      "execution_count": 42,
      "outputs": [
        {
          "output_type": "display_data",
          "data": {
            "image/png": "[encoded data removed]",
            "text/plain": [
              "<Figure size 432x288 with 1 Axes>"
            ]
          },
          "metadata": {
            "needs_background": "light"
          }
        }
      ]
    },
    {
      "cell_type": "code",
      "source": [
        "# Plot training & validation loss values\n",
        "plt.plot(history.history['loss'])\n",
        "plt.plot(history.history['val_loss'])\n",
        "plt.title('Model loss')\n",
        "plt.ylabel('Loss')\n",
        "plt.xlabel('Epoch')\n",
        "plt.legend(['Train', 'Test'], loc='upper left')\n",
        "plt.show()"
      ],
      "metadata": {
        "colab": {
          "base_uri": "https://localhost:8080/",
          "height": 295
        },
        "id": "1CGfmtkY1gLR",
        "outputId": "769952f9-a80a-4a36-94d0-735b0c2dd6ce"
      },
      "execution_count": 41,
      "outputs": [
        {
          "output_type": "display_data",
          "data": {
            "image/png": "[encoded data removed]",
            "text/plain": [
              "<Figure size 432x288 with 1 Axes>"
            ]
          },
          "metadata": {
            "needs_background": "light"
          }
        }
      ]
    },
    {
      "cell_type": "code",
      "source": [
        "# Eval\n",
        "pred_cat = model.predict(X_test)\n",
        "pred = np.argmax(pred_cat, axis=-1)"
      ],
      "metadata": {
        "id": "_k10owb92Ae6"
      },
      "execution_count": 76,
      "outputs": []
    },
    {
      "cell_type": "code",
      "source": [
        "y_test_true = np.argmax(y_test, -1)"
      ],
      "metadata": {
        "id": "iFfzhPKv2LbY"
      },
      "execution_count": 77,
      "outputs": []
    },
    {
      "cell_type": "markdown",
      "source": [
        "## Evaluating the Model"
      ],
      "metadata": {
        "id": "ljlqYecd2XpT"
      }
    },
    {
      "cell_type": "code",
      "source": [
        "from sklearn.metrics import classification_report\n",
        "\n",
        "# Convert the index to tag\n",
        "y_pred = [[idx_tag[i] for i in row] for row in pred]\n",
        "y_true = [[idx_tag[i] for i in row] for row in y_test_true]"
      ],
      "metadata": {
        "id": "EC7NykVo2aQP"
      },
      "execution_count": 78,
      "outputs": []
    },
    {
      "cell_type": "code",
      "source": [
        "len(y_pred), len(y_true)"
      ],
      "metadata": {
        "colab": {
          "base_uri": "https://localhost:8080/"
        },
        "id": "FXKkXVGM6ZoY",
        "outputId": "a2690f4e-b8f5-4c08-d76d-5b5edba18d57"
      },
      "execution_count": 79,
      "outputs": [
        {
          "output_type": "execute_result",
          "data": {
            "text/plain": [
              "(75, 75)"
            ]
          },
          "metadata": {},
          "execution_count": 79
        }
      ]
    },
    {
      "cell_type": "code",
      "source": [
        "y_true_flatten = [ele for sent in y_true for ele in sent]\n",
        "y_pred_flatten = [ele for sent in y_pred for ele in sent]"
      ],
      "metadata": {
        "id": "nwUjZXtm7Xxb"
      },
      "execution_count": 80,
      "outputs": []
    },
    {
      "cell_type": "code",
      "source": [
        "report = classification_report(y_true=y_true_flatten, y_pred=y_pred_flatten, labels=None)\n",
        "print(report)"
      ],
      "metadata": {
        "colab": {
          "base_uri": "https://localhost:8080/"
        },
        "id": "ewlcUrzh6VQT",
        "outputId": "3550e949-79a7-4bcd-86d2-53ab400758a5"
      },
      "execution_count": 81,
      "outputs": [
        {
          "output_type": "stream",
          "name": "stderr",
          "text": [
            "/usr/local/lib/python3.7/dist-packages/sklearn/metrics/_classification.py:1318: UndefinedMetricWarning: Precision and F-score are ill-defined and being set to 0.0 in labels with no predicted samples. Use `zero_division` parameter to control this behavior.\n",
            "  _warn_prf(average, modifier, msg_start, len(result))\n",
            "/usr/local/lib/python3.7/dist-packages/sklearn/metrics/_classification.py:1318: UndefinedMetricWarning: Precision and F-score are ill-defined and being set to 0.0 in labels with no predicted samples. Use `zero_division` parameter to control this behavior.\n",
            "  _warn_prf(average, modifier, msg_start, len(result))\n"
          ]
        },
        {
          "output_type": "stream",
          "name": "stdout",
          "text": [
            "               precision    recall  f1-score   support\n",
            "\n",
            "B-indications       0.00      0.00      0.00     10655\n",
            "I-indications       0.00      0.31      0.01      9037\n",
            "            O       0.30      0.32      0.31    885549\n",
            "          PAD       0.66      0.34      0.45   1964034\n",
            "\n",
            "     accuracy                           0.33   2869275\n",
            "    macro avg       0.24      0.24      0.19   2869275\n",
            " weighted avg       0.55      0.33      0.40   2869275\n",
            "\n"
          ]
        },
        {
          "output_type": "stream",
          "name": "stderr",
          "text": [
            "/usr/local/lib/python3.7/dist-packages/sklearn/metrics/_classification.py:1318: UndefinedMetricWarning: Precision and F-score are ill-defined and being set to 0.0 in labels with no predicted samples. Use `zero_division` parameter to control this behavior.\n",
            "  _warn_prf(average, modifier, msg_start, len(result))\n"
          ]
        }
      ]
    },
    {
      "cell_type": "code",
      "source": [
        "i = np.random.randint(0,X_test.shape[0]) # choose a random number between 0 and len(X_te)\n",
        "p = model.predict(np.array([X_test[i]]))\n",
        "p = np.argmax(p, axis=-1)\n",
        "true = np.argmax(y_test[i], -1)\n",
        "\n",
        "print(\"Sample number {} of {} (Test Set)\".format(i, X_test.shape[0]))\n",
        "# Visualization\n",
        "print(\"{:15}||{:5}||{}\".format(\"Word\", \"True\", \"Pred\"))\n",
        "print(30 * \"=\")\n",
        "for w, t, pred in zip(X_test[i], true, p[0]):\n",
        "    if w != 0:\n",
        "        print(\"{:15}: {:5} {}\".format(words[w-2], idx_tag[t], idx_tag[pred]))"
      ],
      "metadata": {
        "colab": {
          "base_uri": "https://localhost:8080/"
        },
        "id": "Oie_g4i722_J",
        "outputId": "627c0e9e-ab9e-4315-b550-0734ab9a331c"
      },
      "execution_count": 48,
      "outputs": [
        {
          "output_type": "stream",
          "name": "stdout",
          "text": [
            "Sample number 30468 of 38257 (Test Set)\n",
            "Word           ||True ||Pred\n",
            "==============================\n",
            "The            : O     PAD\n",
            "techniques     : O     O\n",
            "described      : O     I-indications\n",
            "here           : O     PAD\n",
            "should         : O     O\n",
            "help           : O     I-indications\n",
            "to             : O     PAD\n",
            "reinvigorate   : O     O\n",
            "faltering      : O     I-indications\n",
            "programs       : O     PAD\n",
            ",              : O     O\n",
            "giving         : O     I-indications\n",
            "hospital       : O     PAD\n",
            "management     : O     O\n",
            "a              : O     I-indications\n",
            "chance         : O     PAD\n",
            "to             : O     PAD\n",
            "``             : O     O\n",
            "do             : O     I-indications\n",
            "it             : O     PAD\n",
            "right          : O     O\n",
            "the            : O     I-indications\n",
            "second         : O     PAD\n",
            "time           : O     O\n",
            ".              : O     I-indications\n",
            "''             : O     PAD\n"
          ]
        }
      ]
    },
    {
      "cell_type": "code",
      "source": [
        ""
      ],
      "metadata": {
        "id": "OLdn8n4TOfpr"
      },
      "execution_count": null,
      "outputs": []
    }
  ]
}