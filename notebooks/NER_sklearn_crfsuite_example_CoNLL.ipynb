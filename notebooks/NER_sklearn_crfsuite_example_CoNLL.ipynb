{
  "cells": [
    {
      "cell_type": "markdown",
      "metadata": {
        "id": "view-in-github",
        "colab_type": "text"
      },
      "source": [
        "<a href=\"https://colab.research.google.com/github/anyuanay/dsr_n2c2/blob/main/notebooks/NER_sklearn_crfsuite_example_CoNLL.ipynb\" target=\"_parent\"><img src=\"https://colab.research.google.com/assets/colab-badge.svg\" alt=\"Open In Colab\"/></a>"
      ]
    },
    {
      "cell_type": "markdown",
      "source": [
        "# NER Using sklearn crfsuite\n",
        "Link: https://sklearn-crfsuite.readthedocs.io/en/latest/tutorial.html\n",
        "\n",
        "Reference: https://medium.com/data-science-in-your-pocket/named-entity-recognition-ner-using-conditional-random-fields-in-nlp-3660df22e95c"
      ],
      "metadata": {
        "id": "W_HzFZNPRCnV"
      }
    },
    {
      "cell_type": "markdown",
      "source": [
        "## BIO Annotation for NER\n",
        "Tags of entities are encoded in a BIO-annotation scheme. Each entity is labeled with a B or an I to detect multi-word entities, where B denotes the beginning of an entity and I denote the inside of an entity. O denotes all other words which are not named entities."
      ],
      "metadata": {
        "id": "47vmlqjqpzH4"
      }
    },
    {
      "cell_type": "markdown",
      "source": [
        "# CRF Basics\n",
        "Given a sequence $x$, we predict the sequence $y$ of labels for $x$, as follows, where the labels are drawn from a set $\\{l_1, l_2, ..., l_k\\}$:\n",
        "\n",
        "$p_\\theta(y|x) = \\frac{\\exp(\\sum_{j}w_{j}F_{j}(x,y))}{\\sum_{y^{'}}(\\exp(\\sum_{j}w_{j}F_{j}(x,y^{'})))}$\n",
        "\n",
        "$Fⱼ(x,y)$ = summation of values of a feature function for all words. The numerator can be written as:\n",
        "\n",
        "$\\exp(\\sum_{j}w_{j}\\sum_{i}feature\\_function_{j}(x,y_{i}, y_{i-1}, i))$\n",
        "\n",
        "- The inner summation goes from $i=1$ to $i=length$ of a sentence. Hence we are summating the value of any feature function for all words of the sentence\n",
        "\n",
        "If we have a sentence ‘Ram is cool’, the inner summation will add values of the output of the jᵗʰ feature function for all 3 words of the sentence\n",
        "\n",
        "- The outer summation goes from $j=1$ to the total number of feature functions. It is doing something like this: $\\sum_{j}w_{j}\\sum_{i}feature\\_function_{j}(x,y_{i}, y_{i-1}, i))$\n",
        "- $w_{j}$ refers to the weight assigned to a $feature\\_function_{j}$.\n",
        "\n",
        "The denominator sums over all possible sequences.\n",
        "\n",
        "## Feature Functions\n",
        "\n",
        "- embedding of word $w_{i}$\n",
        "- embedding of neighboring words\n",
        "- part of speech of word $w_i$\n",
        "- part of speech of neighboring words\n",
        "- presence in a gazetteer\n",
        "- prefix of word $w_i$ and neighboring words\n",
        "- suffix of word $w_i$ and neighboring words\n",
        "- case of word $w_i$ and neighboring words\n",
        "- shape of word $w_i$ and neighboring words\n",
        "- and lot more...\n"
      ],
      "metadata": {
        "id": "fPwVWz-yf1Wq"
      }
    },
    {
      "cell_type": "markdown",
      "source": [
        "# Let's Code"
      ],
      "metadata": {
        "id": "tZklr95lf4g0"
      }
    },
    {
      "cell_type": "code",
      "execution_count": 1,
      "metadata": {
        "id": "Ystxj-WwRA-W"
      },
      "outputs": [],
      "source": [
        "%matplotlib inline\n",
        "import matplotlib.pyplot as plt\n",
        "plt.style.use('ggplot')"
      ]
    },
    {
      "cell_type": "code",
      "source": [
        "!pip install -U 'scikit-learn<0.24'"
      ],
      "metadata": {
        "colab": {
          "base_uri": "https://localhost:8080/"
        },
        "id": "9oC-CLFBZFE_",
        "outputId": "df2d7a0f-6ad0-4a81-b07e-1bdf873b922e"
      },
      "execution_count": 3,
      "outputs": [
        {
          "output_type": "stream",
          "name": "stdout",
          "text": [
            "Collecting scikit-learn<0.24\n",
            "  Downloading scikit_learn-0.23.2-cp37-cp37m-manylinux1_x86_64.whl (6.8 MB)\n",
            "\u001b[K     |████████████████████████████████| 6.8 MB 8.8 MB/s \n",
            "\u001b[?25hRequirement already satisfied: threadpoolctl>=2.0.0 in /usr/local/lib/python3.7/dist-packages (from scikit-learn<0.24) (3.0.0)\n",
            "Requirement already satisfied: scipy>=0.19.1 in /usr/local/lib/python3.7/dist-packages (from scikit-learn<0.24) (1.4.1)\n",
            "Requirement already satisfied: numpy>=1.13.3 in /usr/local/lib/python3.7/dist-packages (from scikit-learn<0.24) (1.19.5)\n",
            "Requirement already satisfied: joblib>=0.11 in /usr/local/lib/python3.7/dist-packages (from scikit-learn<0.24) (1.1.0)\n",
            "Installing collected packages: scikit-learn\n",
            "  Attempting uninstall: scikit-learn\n",
            "    Found existing installation: scikit-learn 1.0.2\n",
            "    Uninstalling scikit-learn-1.0.2:\n",
            "      Successfully uninstalled scikit-learn-1.0.2\n",
            "\u001b[31mERROR: pip's dependency resolver does not currently take into account all the packages that are installed. This behaviour is the source of the following dependency conflicts.\n",
            "imbalanced-learn 0.8.1 requires scikit-learn>=0.24, but you have scikit-learn 0.23.2 which is incompatible.\u001b[0m\n",
            "Successfully installed scikit-learn-0.23.2\n"
          ]
        }
      ]
    },
    {
      "cell_type": "code",
      "source": [
        "!pip install sklearn-crfsuite"
      ],
      "metadata": {
        "colab": {
          "base_uri": "https://localhost:8080/"
        },
        "id": "BiHRRAYORiAq",
        "outputId": "fea27d56-ba53-4642-f996-7afe2992058b"
      },
      "execution_count": 4,
      "outputs": [
        {
          "output_type": "stream",
          "name": "stdout",
          "text": [
            "Requirement already satisfied: sklearn-crfsuite in /usr/local/lib/python3.7/dist-packages (0.3.6)\n",
            "Requirement already satisfied: tabulate in /usr/local/lib/python3.7/dist-packages (from sklearn-crfsuite) (0.8.9)\n",
            "Requirement already satisfied: six in /usr/local/lib/python3.7/dist-packages (from sklearn-crfsuite) (1.15.0)\n",
            "Requirement already satisfied: python-crfsuite>=0.8.3 in /usr/local/lib/python3.7/dist-packages (from sklearn-crfsuite) (0.9.7)\n",
            "Requirement already satisfied: tqdm>=2.0 in /usr/local/lib/python3.7/dist-packages (from sklearn-crfsuite) (4.62.3)\n"
          ]
        }
      ]
    },
    {
      "cell_type": "code",
      "execution_count": 5,
      "metadata": {
        "id": "tn0rEfYERA-b"
      },
      "outputs": [],
      "source": [
        "from itertools import chain\n",
        "\n",
        "import nltk\n",
        "import sklearn\n",
        "import scipy.stats\n",
        "from sklearn.metrics import make_scorer\n",
        "from sklearn.model_selection import cross_val_score\n",
        "from sklearn.model_selection import RandomizedSearchCV\n",
        "\n",
        "import sklearn_crfsuite\n",
        "from sklearn_crfsuite import scorers\n",
        "from sklearn_crfsuite import metrics"
      ]
    },
    {
      "cell_type": "markdown",
      "metadata": {
        "id": "OS-jjNKgRA-c"
      },
      "source": [
        "## Let's use CoNLL 2002 data to build a NER system\n",
        "\n",
        "CoNLL2002 corpus is available in NLTK. We use Spanish data."
      ]
    },
    {
      "cell_type": "code",
      "source": [
        "nltk.download('conll2002')"
      ],
      "metadata": {
        "colab": {
          "base_uri": "https://localhost:8080/"
        },
        "id": "h2p_BOhURz33",
        "outputId": "c54acea8-9ac5-4f84-a832-b96af4f56fa8"
      },
      "execution_count": 6,
      "outputs": [
        {
          "output_type": "stream",
          "name": "stdout",
          "text": [
            "[nltk_data] Downloading package conll2002 to /root/nltk_data...\n",
            "[nltk_data]   Package conll2002 is already up-to-date!\n"
          ]
        },
        {
          "output_type": "execute_result",
          "data": {
            "text/plain": [
              "True"
            ]
          },
          "metadata": {},
          "execution_count": 6
        }
      ]
    },
    {
      "cell_type": "code",
      "execution_count": 7,
      "metadata": {
        "colab": {
          "base_uri": "https://localhost:8080/"
        },
        "id": "zsmI-2vQRA-e",
        "outputId": "c5139f2a-7f41-4a60-c582-12cb04642aad"
      },
      "outputs": [
        {
          "output_type": "execute_result",
          "data": {
            "text/plain": [
              "['esp.testa', 'esp.testb', 'esp.train', 'ned.testa', 'ned.testb', 'ned.train']"
            ]
          },
          "metadata": {},
          "execution_count": 7
        }
      ],
      "source": [
        "nltk.corpus.conll2002.fileids()"
      ]
    },
    {
      "cell_type": "code",
      "execution_count": 8,
      "metadata": {
        "colab": {
          "base_uri": "https://localhost:8080/"
        },
        "id": "_yaDDBbzRA-g",
        "outputId": "e1f6da71-4e00-4a70-8ef7-98b92eae8979"
      },
      "outputs": [
        {
          "output_type": "stream",
          "name": "stdout",
          "text": [
            "CPU times: user 2.02 s, sys: 124 ms, total: 2.14 s\n",
            "Wall time: 2.13 s\n"
          ]
        }
      ],
      "source": [
        "%%time\n",
        "train_sents = list(nltk.corpus.conll2002.iob_sents('esp.train'))\n",
        "test_sents = list(nltk.corpus.conll2002.iob_sents('esp.testb'))"
      ]
    },
    {
      "cell_type": "code",
      "execution_count": 9,
      "metadata": {
        "colab": {
          "base_uri": "https://localhost:8080/"
        },
        "id": "EW0_MLjCRA-h",
        "outputId": "ca26e152-56dd-46dd-e035-f7f2f2f5d1ca"
      },
      "outputs": [
        {
          "output_type": "execute_result",
          "data": {
            "text/plain": [
              "[('Melbourne', 'NP', 'B-LOC'),\n",
              " ('(', 'Fpa', 'O'),\n",
              " ('Australia', 'NP', 'B-LOC'),\n",
              " (')', 'Fpt', 'O'),\n",
              " (',', 'Fc', 'O'),\n",
              " ('25', 'Z', 'O'),\n",
              " ('may', 'NC', 'O'),\n",
              " ('(', 'Fpa', 'O'),\n",
              " ('EFE', 'NC', 'B-ORG'),\n",
              " (')', 'Fpt', 'O'),\n",
              " ('.', 'Fp', 'O')]"
            ]
          },
          "metadata": {},
          "execution_count": 9
        }
      ],
      "source": [
        "train_sents[0]"
      ]
    },
    {
      "cell_type": "markdown",
      "metadata": {
        "id": "3dka58m6RA-i"
      },
      "source": [
        "## Features\n",
        "\n",
        "Next, define some features. In this example we use word identity, word suffix, word shape and word POS tag; also, some information from nearby words is used. \n",
        "\n",
        "This makes a simple baseline, but you certainly can add and remove some features to get (much?) better results - experiment with it.\n",
        "\n",
        "sklearn-crfsuite (and python-crfsuite) supports several feature formats; here we use feature dicts."
      ]
    },
    {
      "cell_type": "code",
      "execution_count": 10,
      "metadata": {
        "id": "z-K0EsJQRA-k"
      },
      "outputs": [],
      "source": [
        "def word2features(sent, i):\n",
        "    word = sent[i][0] # assume tuples in a sentence (word, pos, tag)\n",
        "    postag = sent[i][1] # the second element in the tuple is pos tag\n",
        "    \n",
        "    features = {\n",
        "        'bias': 1.0,\n",
        "        'word.lower()': word.lower(),\n",
        "        'word[-3:]': word[-3:], # last 3 chars\n",
        "        'word[-2:]': word[-2:], # last 2 chars\n",
        "        'word.isupper()': word.isupper(),\n",
        "        'word.istitle()': word.istitle(),\n",
        "        'word.isdigit()': word.isdigit(),\n",
        "        'postag': postag,\n",
        "        'postag[:2]': postag[:2], # the first 2 chars in a pos tag        \n",
        "    }\n",
        "    if i > 0:\n",
        "        word1 = sent[i-1][0] # the previous word\n",
        "        postag1 = sent[i-1][1] # the previous pos tag\n",
        "        features.update({ # add new features to the words except for the first one\n",
        "            '-1:word.lower()': word1.lower(),\n",
        "            '-1:word.istitle()': word1.istitle(),\n",
        "            '-1:word.isupper()': word1.isupper(),\n",
        "            '-1:postag': postag1,\n",
        "            '-1:postag[:2]': postag1[:2],\n",
        "        })\n",
        "    else:\n",
        "        features['BOS'] = True # a feature for the first word\n",
        "        \n",
        "    if i < len(sent)-1: # words before the last word\n",
        "        word1 = sent[i+1][0] # the next word\n",
        "        postag1 = sent[i+1][1] # the next pos\n",
        "        features.update({ # add features for words except for the last word\n",
        "            '+1:word.lower()': word1.lower(),\n",
        "            '+1:word.istitle()': word1.istitle(),\n",
        "            '+1:word.isupper()': word1.isupper(),\n",
        "            '+1:postag': postag1,\n",
        "            '+1:postag[:2]': postag1[:2],\n",
        "        })\n",
        "    else:\n",
        "        features['EOS'] = True # a feature for the last word\n",
        "                \n",
        "    return features\n",
        "\n",
        "\n",
        "def sent2features(sent):\n",
        "    return [word2features(sent, i) for i in range(len(sent))]\n",
        "\n",
        "def sent2labels(sent):\n",
        "    return [label for token, postag, label in sent]\n",
        "\n",
        "def sent2tokens(sent):\n",
        "    return [token for token, postag, label in sent]"
      ]
    },
    {
      "cell_type": "markdown",
      "metadata": {
        "id": "mBUHsF76RA-m"
      },
      "source": [
        "This is what word2features extracts:"
      ]
    },
    {
      "cell_type": "code",
      "source": [
        "train_sents[0][0]"
      ],
      "metadata": {
        "colab": {
          "base_uri": "https://localhost:8080/"
        },
        "id": "cI4dxemcVHDa",
        "outputId": "0634eaf9-a633-4154-98a2-4e411ded3e79"
      },
      "execution_count": 11,
      "outputs": [
        {
          "output_type": "execute_result",
          "data": {
            "text/plain": [
              "('Melbourne', 'NP', 'B-LOC')"
            ]
          },
          "metadata": {},
          "execution_count": 11
        }
      ]
    },
    {
      "cell_type": "code",
      "execution_count": 12,
      "metadata": {
        "colab": {
          "base_uri": "https://localhost:8080/"
        },
        "id": "9PWIFW5BRA-m",
        "outputId": "cb563e5a-44c2-4afa-b41d-d278eab09505"
      },
      "outputs": [
        {
          "output_type": "execute_result",
          "data": {
            "text/plain": [
              "{'+1:postag': 'Fpa',\n",
              " '+1:postag[:2]': 'Fp',\n",
              " '+1:word.istitle()': False,\n",
              " '+1:word.isupper()': False,\n",
              " '+1:word.lower()': '(',\n",
              " 'BOS': True,\n",
              " 'bias': 1.0,\n",
              " 'postag': 'NP',\n",
              " 'postag[:2]': 'NP',\n",
              " 'word.isdigit()': False,\n",
              " 'word.istitle()': True,\n",
              " 'word.isupper()': False,\n",
              " 'word.lower()': 'melbourne',\n",
              " 'word[-2:]': 'ne',\n",
              " 'word[-3:]': 'rne'}"
            ]
          },
          "metadata": {},
          "execution_count": 12
        }
      ],
      "source": [
        "sent2features(train_sents[0])[0]"
      ]
    },
    {
      "cell_type": "markdown",
      "metadata": {
        "id": "UvkEIA42RA-n"
      },
      "source": [
        "Extract features from the data:"
      ]
    },
    {
      "cell_type": "code",
      "execution_count": 13,
      "metadata": {
        "colab": {
          "base_uri": "https://localhost:8080/"
        },
        "id": "FUw55g0hRA-o",
        "outputId": "bc3bb042-96e6-4a2a-bf71-547bf602d9a8"
      },
      "outputs": [
        {
          "output_type": "stream",
          "name": "stdout",
          "text": [
            "CPU times: user 1.11 s, sys: 193 ms, total: 1.3 s\n",
            "Wall time: 1.31 s\n"
          ]
        }
      ],
      "source": [
        "%%time\n",
        "X_train = [sent2features(s) for s in train_sents]\n",
        "y_train = [sent2labels(s) for s in train_sents]\n",
        "\n",
        "X_test = [sent2features(s) for s in test_sents]\n",
        "y_test = [sent2labels(s) for s in test_sents]"
      ]
    },
    {
      "cell_type": "code",
      "source": [
        "len(X_train), len(y_train)"
      ],
      "metadata": {
        "colab": {
          "base_uri": "https://localhost:8080/"
        },
        "id": "3B8OEomnVVst",
        "outputId": "caf612e2-a14d-4f0f-cf5c-f8b2181bda57"
      },
      "execution_count": 14,
      "outputs": [
        {
          "output_type": "execute_result",
          "data": {
            "text/plain": [
              "(8323, 8323)"
            ]
          },
          "metadata": {},
          "execution_count": 14
        }
      ]
    },
    {
      "cell_type": "code",
      "source": [
        "X_train[0:1]"
      ],
      "metadata": {
        "colab": {
          "base_uri": "https://localhost:8080/"
        },
        "id": "QZMgtBsZVZO9",
        "outputId": "87f3df23-678b-4318-9400-70e68dd573ed"
      },
      "execution_count": 15,
      "outputs": [
        {
          "output_type": "execute_result",
          "data": {
            "text/plain": [
              "[[{'+1:postag': 'Fpa',\n",
              "   '+1:postag[:2]': 'Fp',\n",
              "   '+1:word.istitle()': False,\n",
              "   '+1:word.isupper()': False,\n",
              "   '+1:word.lower()': '(',\n",
              "   'BOS': True,\n",
              "   'bias': 1.0,\n",
              "   'postag': 'NP',\n",
              "   'postag[:2]': 'NP',\n",
              "   'word.isdigit()': False,\n",
              "   'word.istitle()': True,\n",
              "   'word.isupper()': False,\n",
              "   'word.lower()': 'melbourne',\n",
              "   'word[-2:]': 'ne',\n",
              "   'word[-3:]': 'rne'},\n",
              "  {'+1:postag': 'NP',\n",
              "   '+1:postag[:2]': 'NP',\n",
              "   '+1:word.istitle()': True,\n",
              "   '+1:word.isupper()': False,\n",
              "   '+1:word.lower()': 'australia',\n",
              "   '-1:postag': 'NP',\n",
              "   '-1:postag[:2]': 'NP',\n",
              "   '-1:word.istitle()': True,\n",
              "   '-1:word.isupper()': False,\n",
              "   '-1:word.lower()': 'melbourne',\n",
              "   'bias': 1.0,\n",
              "   'postag': 'Fpa',\n",
              "   'postag[:2]': 'Fp',\n",
              "   'word.isdigit()': False,\n",
              "   'word.istitle()': False,\n",
              "   'word.isupper()': False,\n",
              "   'word.lower()': '(',\n",
              "   'word[-2:]': '(',\n",
              "   'word[-3:]': '('},\n",
              "  {'+1:postag': 'Fpt',\n",
              "   '+1:postag[:2]': 'Fp',\n",
              "   '+1:word.istitle()': False,\n",
              "   '+1:word.isupper()': False,\n",
              "   '+1:word.lower()': ')',\n",
              "   '-1:postag': 'Fpa',\n",
              "   '-1:postag[:2]': 'Fp',\n",
              "   '-1:word.istitle()': False,\n",
              "   '-1:word.isupper()': False,\n",
              "   '-1:word.lower()': '(',\n",
              "   'bias': 1.0,\n",
              "   'postag': 'NP',\n",
              "   'postag[:2]': 'NP',\n",
              "   'word.isdigit()': False,\n",
              "   'word.istitle()': True,\n",
              "   'word.isupper()': False,\n",
              "   'word.lower()': 'australia',\n",
              "   'word[-2:]': 'ia',\n",
              "   'word[-3:]': 'lia'},\n",
              "  {'+1:postag': 'Fc',\n",
              "   '+1:postag[:2]': 'Fc',\n",
              "   '+1:word.istitle()': False,\n",
              "   '+1:word.isupper()': False,\n",
              "   '+1:word.lower()': ',',\n",
              "   '-1:postag': 'NP',\n",
              "   '-1:postag[:2]': 'NP',\n",
              "   '-1:word.istitle()': True,\n",
              "   '-1:word.isupper()': False,\n",
              "   '-1:word.lower()': 'australia',\n",
              "   'bias': 1.0,\n",
              "   'postag': 'Fpt',\n",
              "   'postag[:2]': 'Fp',\n",
              "   'word.isdigit()': False,\n",
              "   'word.istitle()': False,\n",
              "   'word.isupper()': False,\n",
              "   'word.lower()': ')',\n",
              "   'word[-2:]': ')',\n",
              "   'word[-3:]': ')'},\n",
              "  {'+1:postag': 'Z',\n",
              "   '+1:postag[:2]': 'Z',\n",
              "   '+1:word.istitle()': False,\n",
              "   '+1:word.isupper()': False,\n",
              "   '+1:word.lower()': '25',\n",
              "   '-1:postag': 'Fpt',\n",
              "   '-1:postag[:2]': 'Fp',\n",
              "   '-1:word.istitle()': False,\n",
              "   '-1:word.isupper()': False,\n",
              "   '-1:word.lower()': ')',\n",
              "   'bias': 1.0,\n",
              "   'postag': 'Fc',\n",
              "   'postag[:2]': 'Fc',\n",
              "   'word.isdigit()': False,\n",
              "   'word.istitle()': False,\n",
              "   'word.isupper()': False,\n",
              "   'word.lower()': ',',\n",
              "   'word[-2:]': ',',\n",
              "   'word[-3:]': ','},\n",
              "  {'+1:postag': 'NC',\n",
              "   '+1:postag[:2]': 'NC',\n",
              "   '+1:word.istitle()': False,\n",
              "   '+1:word.isupper()': False,\n",
              "   '+1:word.lower()': 'may',\n",
              "   '-1:postag': 'Fc',\n",
              "   '-1:postag[:2]': 'Fc',\n",
              "   '-1:word.istitle()': False,\n",
              "   '-1:word.isupper()': False,\n",
              "   '-1:word.lower()': ',',\n",
              "   'bias': 1.0,\n",
              "   'postag': 'Z',\n",
              "   'postag[:2]': 'Z',\n",
              "   'word.isdigit()': True,\n",
              "   'word.istitle()': False,\n",
              "   'word.isupper()': False,\n",
              "   'word.lower()': '25',\n",
              "   'word[-2:]': '25',\n",
              "   'word[-3:]': '25'},\n",
              "  {'+1:postag': 'Fpa',\n",
              "   '+1:postag[:2]': 'Fp',\n",
              "   '+1:word.istitle()': False,\n",
              "   '+1:word.isupper()': False,\n",
              "   '+1:word.lower()': '(',\n",
              "   '-1:postag': 'Z',\n",
              "   '-1:postag[:2]': 'Z',\n",
              "   '-1:word.istitle()': False,\n",
              "   '-1:word.isupper()': False,\n",
              "   '-1:word.lower()': '25',\n",
              "   'bias': 1.0,\n",
              "   'postag': 'NC',\n",
              "   'postag[:2]': 'NC',\n",
              "   'word.isdigit()': False,\n",
              "   'word.istitle()': False,\n",
              "   'word.isupper()': False,\n",
              "   'word.lower()': 'may',\n",
              "   'word[-2:]': 'ay',\n",
              "   'word[-3:]': 'may'},\n",
              "  {'+1:postag': 'NC',\n",
              "   '+1:postag[:2]': 'NC',\n",
              "   '+1:word.istitle()': False,\n",
              "   '+1:word.isupper()': True,\n",
              "   '+1:word.lower()': 'efe',\n",
              "   '-1:postag': 'NC',\n",
              "   '-1:postag[:2]': 'NC',\n",
              "   '-1:word.istitle()': False,\n",
              "   '-1:word.isupper()': False,\n",
              "   '-1:word.lower()': 'may',\n",
              "   'bias': 1.0,\n",
              "   'postag': 'Fpa',\n",
              "   'postag[:2]': 'Fp',\n",
              "   'word.isdigit()': False,\n",
              "   'word.istitle()': False,\n",
              "   'word.isupper()': False,\n",
              "   'word.lower()': '(',\n",
              "   'word[-2:]': '(',\n",
              "   'word[-3:]': '('},\n",
              "  {'+1:postag': 'Fpt',\n",
              "   '+1:postag[:2]': 'Fp',\n",
              "   '+1:word.istitle()': False,\n",
              "   '+1:word.isupper()': False,\n",
              "   '+1:word.lower()': ')',\n",
              "   '-1:postag': 'Fpa',\n",
              "   '-1:postag[:2]': 'Fp',\n",
              "   '-1:word.istitle()': False,\n",
              "   '-1:word.isupper()': False,\n",
              "   '-1:word.lower()': '(',\n",
              "   'bias': 1.0,\n",
              "   'postag': 'NC',\n",
              "   'postag[:2]': 'NC',\n",
              "   'word.isdigit()': False,\n",
              "   'word.istitle()': False,\n",
              "   'word.isupper()': True,\n",
              "   'word.lower()': 'efe',\n",
              "   'word[-2:]': 'FE',\n",
              "   'word[-3:]': 'EFE'},\n",
              "  {'+1:postag': 'Fp',\n",
              "   '+1:postag[:2]': 'Fp',\n",
              "   '+1:word.istitle()': False,\n",
              "   '+1:word.isupper()': False,\n",
              "   '+1:word.lower()': '.',\n",
              "   '-1:postag': 'NC',\n",
              "   '-1:postag[:2]': 'NC',\n",
              "   '-1:word.istitle()': False,\n",
              "   '-1:word.isupper()': True,\n",
              "   '-1:word.lower()': 'efe',\n",
              "   'bias': 1.0,\n",
              "   'postag': 'Fpt',\n",
              "   'postag[:2]': 'Fp',\n",
              "   'word.isdigit()': False,\n",
              "   'word.istitle()': False,\n",
              "   'word.isupper()': False,\n",
              "   'word.lower()': ')',\n",
              "   'word[-2:]': ')',\n",
              "   'word[-3:]': ')'},\n",
              "  {'-1:postag': 'Fpt',\n",
              "   '-1:postag[:2]': 'Fp',\n",
              "   '-1:word.istitle()': False,\n",
              "   '-1:word.isupper()': False,\n",
              "   '-1:word.lower()': ')',\n",
              "   'EOS': True,\n",
              "   'bias': 1.0,\n",
              "   'postag': 'Fp',\n",
              "   'postag[:2]': 'Fp',\n",
              "   'word.isdigit()': False,\n",
              "   'word.istitle()': False,\n",
              "   'word.isupper()': False,\n",
              "   'word.lower()': '.',\n",
              "   'word[-2:]': '.',\n",
              "   'word[-3:]': '.'}]]"
            ]
          },
          "metadata": {},
          "execution_count": 15
        }
      ]
    },
    {
      "cell_type": "code",
      "source": [
        "y_train[0:1]"
      ],
      "metadata": {
        "colab": {
          "base_uri": "https://localhost:8080/"
        },
        "id": "2iN4fPUdVrWT",
        "outputId": "0af75c90-fbb4-4842-bccb-b23b0fc0d570"
      },
      "execution_count": 16,
      "outputs": [
        {
          "output_type": "execute_result",
          "data": {
            "text/plain": [
              "[['B-LOC', 'O', 'B-LOC', 'O', 'O', 'O', 'O', 'O', 'B-ORG', 'O', 'O']]"
            ]
          },
          "metadata": {},
          "execution_count": 16
        }
      ]
    },
    {
      "cell_type": "markdown",
      "metadata": {
        "id": "dma0kWovRA-p"
      },
      "source": [
        "## Training\n",
        "\n",
        "To see all possible CRF parameters check its docstring. Here we are useing L-BFGS training algorithm (it is default) with Elastic Net (L1 + L2) regularization."
      ]
    },
    {
      "cell_type": "code",
      "execution_count": 17,
      "metadata": {
        "colab": {
          "base_uri": "https://localhost:8080/"
        },
        "id": "LGEY_sgYRA-r",
        "outputId": "370bf669-0876-4f43-e253-a1be7d194a08"
      },
      "outputs": [
        {
          "output_type": "stream",
          "name": "stdout",
          "text": [
            "CPU times: user 43.1 s, sys: 263 ms, total: 43.4 s\n",
            "Wall time: 43.2 s\n"
          ]
        }
      ],
      "source": [
        "%%time\n",
        "crf = sklearn_crfsuite.CRF(\n",
        "    algorithm='lbfgs', \n",
        "    c1=0.1, \n",
        "    c2=0.1, \n",
        "    max_iterations=100, \n",
        "    all_possible_transitions=True\n",
        ")\n",
        "crf.fit(X_train, y_train)"
      ]
    },
    {
      "cell_type": "markdown",
      "metadata": {
        "id": "xiujJHxuRA-s"
      },
      "source": [
        "## Evaluation\n",
        "\n",
        "There is much more O entities in data set, but we're more interested in other entities. To account for this we'll use averaged F1 score computed for all labels except for O. ``sklearn-crfsuite.metrics`` package provides some useful metrics for sequence classification task, including this one."
      ]
    },
    {
      "cell_type": "code",
      "execution_count": 18,
      "metadata": {
        "colab": {
          "base_uri": "https://localhost:8080/"
        },
        "id": "zVT8MaSoRA-s",
        "outputId": "f680f63b-35cb-4e42-fda1-b96ef0a1511e"
      },
      "outputs": [
        {
          "output_type": "execute_result",
          "data": {
            "text/plain": [
              "['B-LOC', 'B-ORG', 'B-PER', 'I-PER', 'B-MISC', 'I-ORG', 'I-LOC', 'I-MISC']"
            ]
          },
          "metadata": {},
          "execution_count": 18
        }
      ],
      "source": [
        "labels = list(crf.classes_)\n",
        "labels.remove('O')\n",
        "labels"
      ]
    },
    {
      "cell_type": "code",
      "execution_count": 19,
      "metadata": {
        "colab": {
          "base_uri": "https://localhost:8080/"
        },
        "id": "zU-6ViykRA-t",
        "outputId": "5b28c445-c2a3-4b3f-e8e0-edc964ac2310"
      },
      "outputs": [
        {
          "output_type": "execute_result",
          "data": {
            "text/plain": [
              "0.7964686316443963"
            ]
          },
          "metadata": {},
          "execution_count": 19
        }
      ],
      "source": [
        "y_pred = crf.predict(X_test)\n",
        "metrics.flat_f1_score(y_test, y_pred, \n",
        "                      average='weighted', labels=labels)"
      ]
    },
    {
      "cell_type": "markdown",
      "metadata": {
        "id": "Tz13JCi_RA-u"
      },
      "source": [
        "Inspect per-class results in more detail:"
      ]
    },
    {
      "cell_type": "code",
      "execution_count": 20,
      "metadata": {
        "id": "WZ2BbePPRA-u"
      },
      "outputs": [],
      "source": [
        "# group B and I results\n",
        "sorted_labels = sorted(\n",
        "    labels, \n",
        "    key=lambda name: (name[1:], name[0])\n",
        ")"
      ]
    },
    {
      "cell_type": "code",
      "source": [
        "from sklearn.metrics import classification_report"
      ],
      "metadata": {
        "id": "N0yyk9x8W5qZ"
      },
      "execution_count": 21,
      "outputs": []
    },
    {
      "cell_type": "code",
      "source": [
        "y_test_flatten = [lab for sent in y_test for lab in sent]\n",
        "y_pred_flatten = [lab for sent in y_pred for lab in sent]"
      ],
      "metadata": {
        "id": "6M2MYn8XXwCY"
      },
      "execution_count": 22,
      "outputs": []
    },
    {
      "cell_type": "code",
      "source": [
        "print(classification_report(\n",
        "    y_test_flatten, y_pred_flatten, labels=sorted_labels, digits=3\n",
        "))"
      ],
      "metadata": {
        "colab": {
          "base_uri": "https://localhost:8080/"
        },
        "id": "i1y3PdHLW4Tb",
        "outputId": "c7c38553-b296-4711-cace-4b5d09dcc0ac"
      },
      "execution_count": 23,
      "outputs": [
        {
          "output_type": "stream",
          "name": "stdout",
          "text": [
            "              precision    recall  f1-score   support\n",
            "\n",
            "       B-LOC      0.810     0.784     0.797      1084\n",
            "       I-LOC      0.690     0.637     0.662       325\n",
            "      B-MISC      0.731     0.569     0.640       339\n",
            "      I-MISC      0.699     0.589     0.639       557\n",
            "       B-ORG      0.807     0.832     0.820      1400\n",
            "       I-ORG      0.852     0.786     0.818      1104\n",
            "       B-PER      0.850     0.884     0.867       735\n",
            "       I-PER      0.893     0.943     0.917       634\n",
            "\n",
            "   micro avg      0.813     0.787     0.799      6178\n",
            "   macro avg      0.791     0.753     0.770      6178\n",
            "weighted avg      0.809     0.787     0.796      6178\n",
            "\n"
          ]
        }
      ]
    },
    {
      "cell_type": "markdown",
      "metadata": {
        "id": "yVylsUNbRA-v"
      },
      "source": [
        "## Hyperparameter Optimization\n",
        "\n",
        "To improve quality try to select regularization parameters using randomized search and 3-fold cross-validation.\n",
        "\n",
        "It takes quite a lot of CPU time and RAM (we're fitting a model ``50 * 3 = 150`` times), so grab a tea and be patient, or reduce n_iter in RandomizedSearchCV, or fit model only on a subset of training data."
      ]
    },
    {
      "cell_type": "code",
      "execution_count": 24,
      "metadata": {
        "colab": {
          "base_uri": "https://localhost:8080/"
        },
        "id": "7eyyH6vJRA-w",
        "outputId": "c3738e2d-01f4-4607-b307-074a305f9e42"
      },
      "outputs": [
        {
          "output_type": "stream",
          "name": "stdout",
          "text": [
            "Fitting 3 folds for each of 50 candidates, totalling 150 fits\n"
          ]
        },
        {
          "output_type": "stream",
          "name": "stderr",
          "text": [
            "/usr/local/lib/python3.7/dist-packages/sklearn/base.py:213: FutureWarning: From version 0.24, get_params will raise an AttributeError if a parameter cannot be retrieved as an instance attribute. Previously it would return None.\n",
            "  FutureWarning)\n",
            "[Parallel(n_jobs=-1)]: Using backend LokyBackend with 2 concurrent workers.\n",
            "[Parallel(n_jobs=-1)]: Done  46 tasks      | elapsed: 36.1min\n",
            "[Parallel(n_jobs=-1)]: Done 150 out of 150 | elapsed: 117.0min finished\n"
          ]
        },
        {
          "output_type": "stream",
          "name": "stdout",
          "text": [
            "CPU times: user 1h 41min 1s, sys: 24.2 s, total: 1h 41min 25s\n",
            "Wall time: 1h 57min 47s\n"
          ]
        }
      ],
      "source": [
        "%%time\n",
        "# define fixed parameters and parameters to search\n",
        "crf = sklearn_crfsuite.CRF(\n",
        "    algorithm='lbfgs', \n",
        "    max_iterations=100, \n",
        "    all_possible_transitions=True\n",
        ")\n",
        "params_space = {\n",
        "    'c1': scipy.stats.expon(scale=0.5),\n",
        "    'c2': scipy.stats.expon(scale=0.05),\n",
        "}\n",
        "\n",
        "# use the same metric for evaluation\n",
        "f1_scorer = make_scorer(metrics.flat_f1_score, \n",
        "                        average='weighted', labels=labels)\n",
        "\n",
        "# search\n",
        "rs = RandomizedSearchCV(crf, params_space, \n",
        "                        cv=3, \n",
        "                        verbose=1, \n",
        "                        n_jobs=-1, \n",
        "                        n_iter=50, \n",
        "                        scoring=f1_scorer)\n",
        "rs.fit(X_train, y_train)"
      ]
    },
    {
      "cell_type": "markdown",
      "metadata": {
        "id": "dft8sMl8RA-w"
      },
      "source": [
        "Best result:"
      ]
    },
    {
      "cell_type": "code",
      "execution_count": 25,
      "metadata": {
        "colab": {
          "base_uri": "https://localhost:8080/"
        },
        "id": "NzCG6bIZRA-x",
        "outputId": "6fa1c2f1-5e2f-4081-81ca-32bfb2357485"
      },
      "outputs": [
        {
          "output_type": "stream",
          "name": "stdout",
          "text": [
            "best params: {'c1': 0.03464379402504009, 'c2': 0.15232939639906865}\n",
            "best CV score: 0.7488334806534588\n",
            "model size: 2.05M\n"
          ]
        }
      ],
      "source": [
        "# crf = rs.best_estimator_\n",
        "print('best params:', rs.best_params_)\n",
        "print('best CV score:', rs.best_score_)\n",
        "print('model size: {:0.2f}M'.format(rs.best_estimator_.size_ / 1000000))"
      ]
    },
    {
      "cell_type": "markdown",
      "metadata": {
        "id": "zKLXe_6qRA-x"
      },
      "source": [
        "### Check parameter space\n",
        "\n",
        "A chart which shows which ``c1`` and ``c2`` values have RandomizedSearchCV checked. Red color means better results, blue means worse."
      ]
    },
    {
      "cell_type": "code",
      "execution_count": 33,
      "metadata": {
        "colab": {
          "base_uri": "https://localhost:8080/",
          "height": 755
        },
        "id": "RmfqTnwLRA-y",
        "outputId": "56e35b5f-e4a6-4b11-fdff-0ac404120902"
      },
      "outputs": [
        {
          "output_type": "stream",
          "name": "stdout",
          "text": [
            "Dark blue => 0.714, dark red => 0.7488\n"
          ]
        },
        {
          "output_type": "display_data",
          "data": {
            "image/png": "[encoded data removed]",
            "text/plain": [
              "<Figure size 864x864 with 1 Axes>"
            ]
          },
          "metadata": {
            "needs_background": "light"
          }
        }
      ],
      "source": [
        "_x = [s['c1'] for s in rs.cv_results_['params']]\n",
        "_y = [s['c2'] for s in rs.cv_results_['params']]\n",
        "_c = rs.cv_results_['mean_test_score']\n",
        "\n",
        "fig = plt.figure()\n",
        "fig.set_size_inches(12, 12)\n",
        "ax = plt.gca()\n",
        "ax.set_yscale('log')\n",
        "ax.set_xscale('log')\n",
        "ax.set_xlabel('C1')\n",
        "ax.set_ylabel('C2')\n",
        "ax.set_title(\"Randomized Hyperparameter Search CV Results (min={:0.3}, max={:0.3})\".format(\n",
        "    min(_c), max(_c)\n",
        "))\n",
        "\n",
        "ax.scatter(_x, _y, c=_c, s=60, alpha=0.9, edgecolors=[0,0,0])\n",
        "\n",
        "print(\"Dark blue => {:0.4}, dark red => {:0.4}\".format(min(_c), max(_c)))"
      ]
    },
    {
      "cell_type": "markdown",
      "metadata": {
        "id": "Z2_ZBhX6RA-y"
      },
      "source": [
        "## Check best estimator on our test data\n",
        "\n",
        "As you can see, quality is improved."
      ]
    },
    {
      "cell_type": "code",
      "execution_count": 34,
      "metadata": {
        "colab": {
          "base_uri": "https://localhost:8080/"
        },
        "id": "sGMNcQL7RA-y",
        "outputId": "1fbd1947-4c5e-4061-da8a-492afbcd9415"
      },
      "outputs": [
        {
          "output_type": "stream",
          "name": "stderr",
          "text": [
            "/usr/local/lib/python3.7/dist-packages/sklearn/utils/validation.py:70: FutureWarning: Pass labels=['B-LOC', 'I-LOC', 'B-MISC', 'I-MISC', 'B-ORG', 'I-ORG', 'B-PER', 'I-PER'] as keyword args. From version 0.25 passing these as positional arguments will result in an error\n",
            "  FutureWarning)\n"
          ]
        },
        {
          "output_type": "stream",
          "name": "stdout",
          "text": [
            "              precision    recall  f1-score   support\n",
            "\n",
            "       B-LOC      0.806     0.780     0.793      1084\n",
            "       I-LOC      0.720     0.625     0.669       325\n",
            "      B-MISC      0.745     0.552     0.634       339\n",
            "      I-MISC      0.718     0.576     0.639       557\n",
            "       B-ORG      0.806     0.836     0.821      1400\n",
            "       I-ORG      0.847     0.803     0.824      1104\n",
            "       B-PER      0.847     0.883     0.865       735\n",
            "       I-PER      0.891     0.943     0.916       634\n",
            "\n",
            "   micro avg      0.815     0.787     0.801      6178\n",
            "   macro avg      0.798     0.750     0.770      6178\n",
            "weighted avg      0.811     0.787     0.797      6178\n",
            "\n"
          ]
        }
      ],
      "source": [
        "crf = rs.best_estimator_\n",
        "y_pred = crf.predict(X_test)\n",
        "print(metrics.flat_classification_report(\n",
        "    y_test, y_pred, labels=sorted_labels, digits=3\n",
        "))"
      ]
    },
    {
      "cell_type": "markdown",
      "metadata": {
        "id": "bSixwPD-RA-z"
      },
      "source": [
        "## Let's check what classifier learned"
      ]
    },
    {
      "cell_type": "code",
      "execution_count": 35,
      "metadata": {
        "colab": {
          "base_uri": "https://localhost:8080/"
        },
        "id": "RKA1IeGnRA-z",
        "outputId": "927137ac-3b24-4a7d-e29e-473bf371a417"
      },
      "outputs": [
        {
          "output_type": "stream",
          "name": "stdout",
          "text": [
            "Top likely transitions:\n",
            "B-ORG  -> I-ORG   7.332829\n",
            "I-ORG  -> I-ORG   6.987330\n",
            "B-MISC -> I-MISC  6.738847\n",
            "I-MISC -> I-MISC  6.536893\n",
            "B-PER  -> I-PER   6.464758\n",
            "B-LOC  -> I-LOC   5.570934\n",
            "I-PER  -> I-PER   5.173898\n",
            "I-LOC  -> I-LOC   4.833802\n",
            "O      -> O       3.828644\n",
            "O      -> B-ORG   2.827675\n",
            "O      -> B-PER   2.537467\n",
            "O      -> B-MISC  1.952749\n",
            "O      -> B-LOC   1.938661\n",
            "I-PER  -> B-LOC   0.729162\n",
            "B-ORG  -> O       0.460527\n",
            "B-LOC  -> B-LOC   0.454089\n",
            "B-MISC -> B-ORG   0.365817\n",
            "B-ORG  -> B-LOC   0.318117\n",
            "B-MISC -> O       -0.033820\n",
            "B-MISC -> B-LOC   -0.212750\n",
            "\n",
            "Top unlikely transitions:\n",
            "B-LOC  -> B-MISC  -1.802258\n",
            "I-MISC -> I-ORG   -1.812499\n",
            "B-ORG  -> B-ORG   -1.839612\n",
            "I-ORG  -> I-PER   -1.889328\n",
            "I-PER  -> I-LOC   -2.013074\n",
            "B-PER  -> B-MISC  -2.044271\n",
            "I-MISC -> B-LOC   -2.123373\n",
            "I-PER  -> B-ORG   -2.133767\n",
            "B-ORG  -> B-MISC  -2.148378\n",
            "I-ORG  -> B-MISC  -2.152028\n",
            "I-ORG  -> B-LOC   -2.222267\n",
            "I-ORG  -> I-LOC   -2.321297\n",
            "I-PER  -> B-MISC  -2.354197\n",
            "I-MISC -> I-LOC   -2.444865\n",
            "B-MISC -> B-MISC  -2.638566\n",
            "B-PER  -> B-PER   -2.682989\n",
            "O      -> I-PER   -4.700674\n",
            "O      -> I-MISC  -4.747874\n",
            "O      -> I-ORG   -4.944107\n",
            "O      -> I-LOC   -5.674464\n"
          ]
        }
      ],
      "source": [
        "from collections import Counter\n",
        "\n",
        "def print_transitions(trans_features):\n",
        "    for (label_from, label_to), weight in trans_features:\n",
        "        print(\"%-6s -> %-7s %0.6f\" % (label_from, label_to, weight))\n",
        "\n",
        "print(\"Top likely transitions:\")\n",
        "print_transitions(Counter(crf.transition_features_).most_common(20))\n",
        "\n",
        "print(\"\\nTop unlikely transitions:\")\n",
        "print_transitions(Counter(crf.transition_features_).most_common()[-20:])"
      ]
    },
    {
      "cell_type": "markdown",
      "metadata": {
        "id": "zEfi-B2QRA-z"
      },
      "source": [
        "We can see that, for example, it is very likely that the beginning of an organization name (B-ORG) will be followed by a token inside organization name (I-ORG), but transitions to I-ORG from tokens with other labels are penalized.\n",
        "\n",
        "Check the state features:"
      ]
    },
    {
      "cell_type": "code",
      "execution_count": 36,
      "metadata": {
        "colab": {
          "base_uri": "https://localhost:8080/"
        },
        "id": "_sfbqVzmRA-z",
        "outputId": "8edc3ce6-ce56-4b68-d066-5d81f262e005"
      },
      "outputs": [
        {
          "output_type": "stream",
          "name": "stdout",
          "text": [
            "Top positive:\n",
            "8.543366 B-ORG    word.lower():efe-cantabria\n",
            "7.744801 B-ORG    word.lower():psoe-progresistas\n",
            "5.489655 I-ORG    -1:word.lower():l\n",
            "4.860263 O        BOS\n",
            "4.367538 B-ORG    word.lower():telefónica\n",
            "4.366026 B-MISC   word.lower():justicia\n",
            "4.354364 B-LOC    word.lower():líbano\n",
            "4.312683 B-ORG    word[-2:]:-e\n",
            "4.277570 B-MISC   word.lower():competencia\n",
            "4.219916 B-LOC    -1:word.lower():cantabria\n",
            "4.215343 O        word.lower():r.\n",
            "4.215343 O        word[-3:]:R.\n",
            "4.191642 B-ORG    word.lower():xfera\n",
            "4.151865 B-ORG    word.isupper()\n",
            "4.004479 B-MISC   word.lower():diversia\n",
            "3.975005 B-PER    -1:word.lower():según\n",
            "3.879740 O        word.lower():b\n",
            "3.879740 O        word[-3:]:B\n",
            "3.879740 O        word[-2:]:B\n",
            "3.838983 O        bias\n",
            "3.774954 B-ORG    word.lower():terra\n",
            "3.720719 B-MISC   word.lower():internet\n",
            "3.595631 B-LOC    word.lower():estrecho\n",
            "3.587206 B-MISC   word.lower():exteriores\n",
            "3.569739 B-ORG    word.lower():ciu\n",
            "3.566389 B-ORG    word[-3:]:CiU\n",
            "3.566389 B-ORG    word[-2:]:iU\n",
            "3.549171 B-ORG    word.lower():esquerra\n",
            "3.521423 B-LOC    word.lower():asturias\n",
            "3.509872 B-MISC   word.lower():derecho\n",
            "\n",
            "Top negative:\n",
            "-1.817338 O        +1:word.lower():justicia\n",
            "-1.828668 I-LOC    BOS\n",
            "-1.844560 O        +1:word.lower():navarra\n",
            "-1.847348 B-MISC   postag:SP\n",
            "-1.847348 B-MISC   postag[:2]:SP\n",
            "-1.852775 I-PER    +1:word.lower():el\n",
            "-1.855827 B-PER    word[-2:]:os\n",
            "-1.877544 O        -1:word.lower():británica\n",
            "-1.961711 I-PER    +1:word.lower():del\n",
            "-1.969050 O        postag:NP\n",
            "-1.969050 O        postag[:2]:NP\n",
            "-1.973967 O        +1:word.lower():plasencia\n",
            "-2.004365 B-LOC    word[-3:]:la\n",
            "-2.021229 B-PER    word[-3:]:nes\n",
            "-2.042361 B-LOC    word[-3:]:ión\n",
            "-2.044708 O        word.lower():061\n",
            "-2.087742 B-MISC   -1:word.isupper()\n",
            "-2.107548 O        word[-2:]:nd\n",
            "-2.151645 O        -1:word.lower():sección\n",
            "-2.181234 O        word[-3:]:730\n",
            "-2.197550 O        word[-3:]:bas\n",
            "-2.309380 O        word[-3:]:LOS\n",
            "-2.460657 O        word.lower():mas\n",
            "-2.556140 O        -1:word.lower():españolas\n",
            "-2.829284 I-PER    -1:word.lower():san\n",
            "-3.089112 O        -1:word.lower():celebrarán\n",
            "-3.321738 B-PER    -1:word.lower():del\n",
            "-3.818154 O        word[-2:]:om\n",
            "-5.471451 O        word.isupper()\n",
            "-7.863727 O        word.istitle()\n"
          ]
        }
      ],
      "source": [
        "def print_state_features(state_features):\n",
        "    for (attr, label), weight in state_features:\n",
        "        print(\"%0.6f %-8s %s\" % (weight, label, attr))    \n",
        "\n",
        "print(\"Top positive:\")\n",
        "print_state_features(Counter(crf.state_features_).most_common(30))\n",
        "\n",
        "print(\"\\nTop negative:\")\n",
        "print_state_features(Counter(crf.state_features_).most_common()[-30:])"
      ]
    },
    {
      "cell_type": "markdown",
      "metadata": {
        "id": "F0t6srZORA-0"
      },
      "source": [
        "\n",
        "\n",
        "Some observations:\n",
        "\n",
        "   * **9.385823 B-ORG word.lower():psoe-progresistas** - the model remembered names of some entities - maybe it is overfit, or maybe our features are not adequate, or maybe remembering is indeed helpful;\n",
        "   * **4.636151 I-LOC -1:word.lower():calle:** \"calle\" is a street in Spanish; model learns that if a previous word was \"calle\" then the token is likely a part of location;\n",
        "   * **-5.632036 O word.isupper()**, **-8.215073 O word.istitle()** : UPPERCASED or TitleCased words are likely entities of some kind;\n",
        "   * **-2.097561 O postag:NP** - proper nouns (NP is a proper noun in the Spanish tagset) are often entities.\n",
        "\n",
        "What to do next\n",
        "\n",
        "    * Load 'testa' Spanish data.\n",
        "    * Use it to develop better features and to find best model parameters.\n",
        "    * Apply the model to 'testb' data again.\n",
        "\n",
        "The model in this notebook is just a starting point; you certainly can do better!\n",
        "\n"
      ]
    },
    {
      "cell_type": "code",
      "execution_count": null,
      "metadata": {
        "id": "iO3wQgdbRA-0"
      },
      "outputs": [],
      "source": [
        ""
      ]
    }
  ],
  "metadata": {
    "kernelspec": {
      "display_name": "Python 3",
      "language": "python",
      "name": "python3"
    },
    "language_info": {
      "codemirror_mode": {
        "name": "ipython",
        "version": 3
      },
      "file_extension": ".py",
      "mimetype": "text/x-python",
      "name": "python",
      "nbconvert_exporter": "python",
      "pygments_lexer": "ipython3",
      "version": "3.4.2"
    },
    "colab": {
      "name": "NER-sklearn-crfsuite-example-CoNLL.ipynb",
      "provenance": [],
      "include_colab_link": true
    }
  },
  "nbformat": 4,
  "nbformat_minor": 0
}